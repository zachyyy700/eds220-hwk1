{
 "cells": [
  {
   "cell_type": "code",
   "execution_count": 1,
   "metadata": {
    "deletable": false,
    "editable": false
   },
   "outputs": [],
   "source": [
    "# Initialize Otter\n",
    "import otter\n",
    "grader = otter.Notebook(\"hwk1-task3-earthquakes-LOO.ipynb\")"
   ]
  },
  {
   "cell_type": "markdown",
   "metadata": {},
   "source": [
    "# Task 3: `pandas` fundamentals with earthquake data\n",
    "\n",
    "## Instructions\n",
    "- First, update the following cell to have a link to *your* Homework 1 GitHub repository:"
   ]
  },
  {
   "cell_type": "markdown",
   "metadata": {},
   "source": [
    "**UPDATE THIS LINK:**\n",
    "\n",
    "[https://github.com/zachyyy700/eds220-hwk1]()"
   ]
  },
  {
   "cell_type": "markdown",
   "metadata": {},
   "source": [
    "- This task covers topics on the lessons on [subsetting `pandas.DataFrames`](https://meds-eds-220.github.io/MEDS-eds-220-course/book/chapters/lesson-3-pandas-subsetting/lesson-3-pandas-subsetting.html) and [plotting](). The best strategy to solve it is to get together with your classmates and work on it together after these lecture.\n",
    "\n",
    "- Review the [complete rubric for this task](https://docs.google.com/document/d/131OnUDOLpOl94SlaMU9nGqT998ABrjFS/edit?usp=sharing&ouid=111507336322611936333&rtpof=true&sd=true) before starting.\n",
    "\n",
    "- **Make at least 5 commits at moments you think are adequate.** We'll check your repository and view the commit history.\n",
    "\n",
    "- **Add comments for all your code.** Err on the side of commenting too much for now. Comments should follow best practices.\n",
    "\n",
    "\n",
    "## Acknowledgement\n",
    "This task was adapted from the *Pandas Fundamentals with Earthquake Data* assignment from the e-book [Earth and Environmental Data Science](https://earth-env-data-science.github.io/intro.html)"
   ]
  },
  {
   "cell_type": "markdown",
   "metadata": {},
   "source": [
    "## About the data\n",
    "\n",
    "For this task we are going to use simplified data from the [USGS Earthquakes Database](https://earthquake.usgs.gov/earthquakes/search/). This dataset is given in a single CSV file within the`data` folder (`data/earthquake_data.csv`) and has the following columns:\n",
    "\n",
    "- time = date and time of event (all events from 2014)\n",
    "- latitude = decimal degrees [-90,90]\n",
    "- longitude = decimal degrees [-360,360]\n",
    "- depth = depth of the event (km)\n",
    "- mag =  magnitude of event\n",
    "- id = event identifier\n",
    "- place = where the event took place\n",
    "- type = type of event"
   ]
  },
  {
   "cell_type": "markdown",
   "metadata": {
    "deletable": false,
    "editable": false
   },
   "source": [
    "<!-- BEGIN QUESTION -->\n",
    "\n",
    "## 1 \n",
    "\n",
    "a. Import pandas (always with standard abbreviation!).\n",
    "\n",
    "b. Use `pd.read_csv()` to import the `earthquake_data.csv` dataset and store it in the `raw_eqk` variable.\n"
   ]
  },
  {
   "cell_type": "code",
   "execution_count": 2,
   "metadata": {
    "tags": [
     "otter_answer_cell"
    ]
   },
   "outputs": [],
   "source": [
    "import pandas as pd\n",
    "raw_eqk = pd.read_csv('data/earthquake_data.csv')"
   ]
  },
  {
   "cell_type": "markdown",
   "metadata": {
    "deletable": false,
    "editable": false
   },
   "source": [
    "<!-- END QUESTION -->\n",
    "\n",
    "Look at the head of the dataframe. Store the result in the `raw_eqk_head` variable. "
   ]
  },
  {
   "cell_type": "code",
   "execution_count": 3,
   "metadata": {
    "tags": [
     "otter_answer_cell"
    ]
   },
   "outputs": [],
   "source": [
    "# View first five rows with .head()\n",
    "raw_eqk_head = raw_eqk.head()"
   ]
  },
  {
   "cell_type": "code",
   "execution_count": 4,
   "metadata": {
    "tags": [
     "otter_answer_cell"
    ]
   },
   "outputs": [
    {
     "data": {
      "application/vnd.microsoft.datawrangler.viewer.v0+json": {
       "columns": [
        {
         "name": "index",
         "rawType": "int64",
         "type": "integer"
        },
        {
         "name": "time",
         "rawType": "object",
         "type": "string"
        },
        {
         "name": "latitude",
         "rawType": "float64",
         "type": "float"
        },
        {
         "name": "longitude",
         "rawType": "float64",
         "type": "float"
        },
        {
         "name": "depth",
         "rawType": "float64",
         "type": "float"
        },
        {
         "name": "mag",
         "rawType": "float64",
         "type": "float"
        },
        {
         "name": "id",
         "rawType": "object",
         "type": "string"
        },
        {
         "name": "place",
         "rawType": "object",
         "type": "string"
        },
        {
         "name": "type",
         "rawType": "object",
         "type": "string"
        }
       ],
       "ref": "a66d5078-8870-4262-8e10-41165f339bc4",
       "rows": [
        [
         "0",
         "2014-01-31 23:53:37.000",
         "60.252",
         "-152.7081",
         "90.2",
         "1.1",
         "ak11155107",
         "26km S of Redoubt Volcano, Alaska",
         "earthquake"
        ],
        [
         "1",
         "2014-01-31 23:48:35.452",
         "37.0703",
         "-115.1309",
         "0.0",
         "1.33",
         "nn00436847",
         "32km S of Alamo, Nevada",
         "earthquake"
        ],
        [
         "2",
         "2014-01-31 23:47:24.000",
         "64.6717",
         "-149.2528",
         "7.1",
         "1.3",
         "ak11151142",
         "12km NNW of North Nenana, Alaska",
         "earthquake"
        ],
        [
         "3",
         "2014-01-31 23:30:54.000",
         "63.1887",
         "-148.9575",
         "96.5",
         "0.8",
         "ak11151135",
         "22km S of Cantwell, Alaska",
         "earthquake"
        ],
        [
         "4",
         "2014-01-31 23:30:52.210",
         "32.6168333",
         "-115.6925",
         "10.59",
         "1.34",
         "ci37171541",
         "10km WNW of Progreso, Mexico",
         "earthquake"
        ]
       ],
       "shape": {
        "columns": 8,
        "rows": 5
       }
      },
      "text/html": [
       "<div>\n",
       "<style scoped>\n",
       "    .dataframe tbody tr th:only-of-type {\n",
       "        vertical-align: middle;\n",
       "    }\n",
       "\n",
       "    .dataframe tbody tr th {\n",
       "        vertical-align: top;\n",
       "    }\n",
       "\n",
       "    .dataframe thead th {\n",
       "        text-align: right;\n",
       "    }\n",
       "</style>\n",
       "<table border=\"1\" class=\"dataframe\">\n",
       "  <thead>\n",
       "    <tr style=\"text-align: right;\">\n",
       "      <th></th>\n",
       "      <th>time</th>\n",
       "      <th>latitude</th>\n",
       "      <th>longitude</th>\n",
       "      <th>depth</th>\n",
       "      <th>mag</th>\n",
       "      <th>id</th>\n",
       "      <th>place</th>\n",
       "      <th>type</th>\n",
       "    </tr>\n",
       "  </thead>\n",
       "  <tbody>\n",
       "    <tr>\n",
       "      <th>0</th>\n",
       "      <td>2014-01-31 23:53:37.000</td>\n",
       "      <td>60.252000</td>\n",
       "      <td>-152.7081</td>\n",
       "      <td>90.20</td>\n",
       "      <td>1.10</td>\n",
       "      <td>ak11155107</td>\n",
       "      <td>26km S of Redoubt Volcano, Alaska</td>\n",
       "      <td>earthquake</td>\n",
       "    </tr>\n",
       "    <tr>\n",
       "      <th>1</th>\n",
       "      <td>2014-01-31 23:48:35.452</td>\n",
       "      <td>37.070300</td>\n",
       "      <td>-115.1309</td>\n",
       "      <td>0.00</td>\n",
       "      <td>1.33</td>\n",
       "      <td>nn00436847</td>\n",
       "      <td>32km S of Alamo, Nevada</td>\n",
       "      <td>earthquake</td>\n",
       "    </tr>\n",
       "    <tr>\n",
       "      <th>2</th>\n",
       "      <td>2014-01-31 23:47:24.000</td>\n",
       "      <td>64.671700</td>\n",
       "      <td>-149.2528</td>\n",
       "      <td>7.10</td>\n",
       "      <td>1.30</td>\n",
       "      <td>ak11151142</td>\n",
       "      <td>12km NNW of North Nenana, Alaska</td>\n",
       "      <td>earthquake</td>\n",
       "    </tr>\n",
       "    <tr>\n",
       "      <th>3</th>\n",
       "      <td>2014-01-31 23:30:54.000</td>\n",
       "      <td>63.188700</td>\n",
       "      <td>-148.9575</td>\n",
       "      <td>96.50</td>\n",
       "      <td>0.80</td>\n",
       "      <td>ak11151135</td>\n",
       "      <td>22km S of Cantwell, Alaska</td>\n",
       "      <td>earthquake</td>\n",
       "    </tr>\n",
       "    <tr>\n",
       "      <th>4</th>\n",
       "      <td>2014-01-31 23:30:52.210</td>\n",
       "      <td>32.616833</td>\n",
       "      <td>-115.6925</td>\n",
       "      <td>10.59</td>\n",
       "      <td>1.34</td>\n",
       "      <td>ci37171541</td>\n",
       "      <td>10km WNW of Progreso, Mexico</td>\n",
       "      <td>earthquake</td>\n",
       "    </tr>\n",
       "  </tbody>\n",
       "</table>\n",
       "</div>"
      ],
      "text/plain": [
       "                      time   latitude  longitude  depth   mag          id  \\\n",
       "0  2014-01-31 23:53:37.000  60.252000  -152.7081  90.20  1.10  ak11155107   \n",
       "1  2014-01-31 23:48:35.452  37.070300  -115.1309   0.00  1.33  nn00436847   \n",
       "2  2014-01-31 23:47:24.000  64.671700  -149.2528   7.10  1.30  ak11151142   \n",
       "3  2014-01-31 23:30:54.000  63.188700  -148.9575  96.50  0.80  ak11151135   \n",
       "4  2014-01-31 23:30:52.210  32.616833  -115.6925  10.59  1.34  ci37171541   \n",
       "\n",
       "                               place        type  \n",
       "0  26km S of Redoubt Volcano, Alaska  earthquake  \n",
       "1            32km S of Alamo, Nevada  earthquake  \n",
       "2   12km NNW of North Nenana, Alaska  earthquake  \n",
       "3         22km S of Cantwell, Alaska  earthquake  \n",
       "4       10km WNW of Progreso, Mexico  earthquake  "
      ]
     },
     "execution_count": 4,
     "metadata": {},
     "output_type": "execute_result"
    }
   ],
   "source": [
    "# View the dataframe\n",
    "raw_eqk_head"
   ]
  },
  {
   "cell_type": "code",
   "execution_count": 5,
   "metadata": {
    "deletable": false,
    "editable": false
   },
   "outputs": [
    {
     "data": {
      "text/html": [
       "<p><strong><pre style='display: inline;'>q1_c</pre></strong> passed! 🌈</p>"
      ],
      "text/plain": [
       "q1_c results: All test cases passed!"
      ]
     },
     "execution_count": 5,
     "metadata": {},
     "output_type": "execute_result"
    }
   ],
   "source": [
    "grader.check(\"q1_c\")"
   ]
  },
  {
   "cell_type": "markdown",
   "metadata": {
    "deletable": false,
    "editable": false
   },
   "source": [
    "## 2\n",
    "a. Print the shape of the `raw_eqk` dataframe. Store your answer in the `raw_eqk_shape` variable."
   ]
  },
  {
   "cell_type": "code",
   "execution_count": 6,
   "metadata": {
    "tags": [
     "otter_answer_cell"
    ]
   },
   "outputs": [],
   "source": [
    "# Use .shape to view the shape of a dataframe\n",
    "raw_eqk_shape = raw_eqk.shape"
   ]
  },
  {
   "cell_type": "code",
   "execution_count": 7,
   "metadata": {
    "deletable": false,
    "editable": false
   },
   "outputs": [
    {
     "data": {
      "text/html": [
       "<p><strong><pre style='display: inline;'>q2_a</pre></strong> passed! 🍀</p>"
      ],
      "text/plain": [
       "q2_a results: All test cases passed!"
      ]
     },
     "execution_count": 7,
     "metadata": {},
     "output_type": "execute_result"
    }
   ],
   "source": [
    "grader.check(\"q2_a\")"
   ]
  },
  {
   "cell_type": "markdown",
   "metadata": {
    "deletable": false,
    "editable": false
   },
   "source": [
    "b. Store the type of `raw_eqk`'s shape in the `raw_eqk_shape_type` variable."
   ]
  },
  {
   "cell_type": "code",
   "execution_count": 8,
   "metadata": {
    "tags": [
     "otter_answer_cell"
    ]
   },
   "outputs": [],
   "source": [
    "raw_eqk_shape_type = type(raw_eqk.shape)"
   ]
  },
  {
   "cell_type": "code",
   "execution_count": 9,
   "metadata": {
    "tags": [
     "otter_answer_cell"
    ]
   },
   "outputs": [
    {
     "data": {
      "text/plain": [
       "tuple"
      ]
     },
     "execution_count": 9,
     "metadata": {},
     "output_type": "execute_result"
    }
   ],
   "source": [
    "# View the type\n",
    "raw_eqk_shape_type"
   ]
  },
  {
   "cell_type": "code",
   "execution_count": 10,
   "metadata": {
    "deletable": false,
    "editable": false
   },
   "outputs": [
    {
     "data": {
      "text/html": [
       "<p><strong><pre style='display: inline;'>q2_b</pre></strong> passed! 🙌</p>"
      ],
      "text/plain": [
       "q2_b results: All test cases passed!"
      ]
     },
     "execution_count": 10,
     "metadata": {},
     "output_type": "execute_result"
    }
   ],
   "source": [
    "grader.check(\"q2_b\")"
   ]
  },
  {
   "cell_type": "markdown",
   "metadata": {
    "deletable": false,
    "editable": false
   },
   "source": [
    "c. Extract *only* the number of rows by accessing it from `raw_eqk`'s shape.Store your answer in the `num_rows` variable.  HINT: how do you index an element in a tuple?"
   ]
  },
  {
   "cell_type": "code",
   "execution_count": 11,
   "metadata": {
    "tags": [
     "otter_answer_cell"
    ]
   },
   "outputs": [],
   "source": [
    "# Access first element of .shape\n",
    "num_rows = raw_eqk.shape[0]"
   ]
  },
  {
   "cell_type": "code",
   "execution_count": 12,
   "metadata": {
    "deletable": false,
    "editable": false
   },
   "outputs": [
    {
     "data": {
      "text/html": [
       "<p><strong><pre style='display: inline;'>q2_c</pre></strong> passed! 🍀</p>"
      ],
      "text/plain": [
       "q2_c results: All test cases passed!"
      ]
     },
     "execution_count": 12,
     "metadata": {},
     "output_type": "execute_result"
    }
   ],
   "source": [
    "grader.check(\"q2_c\")"
   ]
  },
  {
   "cell_type": "markdown",
   "metadata": {
    "deletable": false,
    "editable": false
   },
   "source": [
    "## 3\n",
    "\n",
    "Get the unique values of the type of events. Store your answer in the `unique_events` variable."
   ]
  },
  {
   "cell_type": "code",
   "execution_count": 13,
   "metadata": {
    "tags": [
     "otter_answer_cell"
    ]
   },
   "outputs": [],
   "source": [
    "# Use .unique() to get unique values\n",
    "unique_events = raw_eqk['type'].unique()"
   ]
  },
  {
   "cell_type": "code",
   "execution_count": 14,
   "metadata": {
    "deletable": false,
    "editable": false
   },
   "outputs": [
    {
     "data": {
      "text/html": [
       "<p><strong><pre style='display: inline;'>q3</pre></strong> passed! 🍀</p>"
      ],
      "text/plain": [
       "q3 results: All test cases passed!"
      ]
     },
     "execution_count": 14,
     "metadata": {},
     "output_type": "execute_result"
    }
   ],
   "source": [
    "grader.check(\"q3\")"
   ]
  },
  {
   "cell_type": "markdown",
   "metadata": {
    "deletable": false,
    "editable": false
   },
   "source": [
    "# 4\n",
    "\n",
    "a. Select only earthquake events and store them as `eqk` (variable name). Update the index of `eqk` to be the `id` column of the dataframe. "
   ]
  },
  {
   "cell_type": "code",
   "execution_count": 15,
   "metadata": {
    "tags": [
     "otter_answer_cell"
    ]
   },
   "outputs": [],
   "source": [
    "# Filter raw data and set id column as index\n",
    "eqk = raw_eqk[raw_eqk['type'] == \"earthquake\"].set_index(keys='id')"
   ]
  },
  {
   "cell_type": "code",
   "execution_count": 16,
   "metadata": {
    "tags": [
     "otter_answer_cell"
    ]
   },
   "outputs": [
    {
     "data": {
      "application/vnd.microsoft.datawrangler.viewer.v0+json": {
       "columns": [
        {
         "name": "id",
         "rawType": "object",
         "type": "string"
        },
        {
         "name": "time",
         "rawType": "object",
         "type": "string"
        },
        {
         "name": "latitude",
         "rawType": "float64",
         "type": "float"
        },
        {
         "name": "longitude",
         "rawType": "float64",
         "type": "float"
        },
        {
         "name": "depth",
         "rawType": "float64",
         "type": "float"
        },
        {
         "name": "mag",
         "rawType": "float64",
         "type": "float"
        },
        {
         "name": "place",
         "rawType": "object",
         "type": "string"
        },
        {
         "name": "type",
         "rawType": "object",
         "type": "string"
        }
       ],
       "ref": "027b2e0f-a68d-4811-8f47-dc75b0fe6323",
       "rows": [
        [
         "ak11155107",
         "2014-01-31 23:53:37.000",
         "60.252",
         "-152.7081",
         "90.2",
         "1.1",
         "26km S of Redoubt Volcano, Alaska",
         "earthquake"
        ],
        [
         "nn00436847",
         "2014-01-31 23:48:35.452",
         "37.0703",
         "-115.1309",
         "0.0",
         "1.33",
         "32km S of Alamo, Nevada",
         "earthquake"
        ],
        [
         "ak11151142",
         "2014-01-31 23:47:24.000",
         "64.6717",
         "-149.2528",
         "7.1",
         "1.3",
         "12km NNW of North Nenana, Alaska",
         "earthquake"
        ],
        [
         "ak11151135",
         "2014-01-31 23:30:54.000",
         "63.1887",
         "-148.9575",
         "96.5",
         "0.8",
         "22km S of Cantwell, Alaska",
         "earthquake"
        ],
        [
         "ci37171541",
         "2014-01-31 23:30:52.210",
         "32.6168333",
         "-115.6925",
         "10.59",
         "1.34",
         "10km WNW of Progreso, Mexico",
         "earthquake"
        ],
        [
         "ci11419714",
         "2014-01-31 23:28:04.020",
         "33.359",
         "-116.3605",
         "12.98",
         "1.17",
         "11km N of Borrego Springs, California",
         "earthquake"
        ],
        [
         "ak11151127",
         "2014-01-31 23:22:52.000",
         "62.8002",
         "-150.6965",
         "86.4",
         "1.5",
         "61km NNW of Talkeetna, Alaska",
         "earthquake"
        ],
        [
         "ak11151125",
         "2014-01-31 23:20:42.000",
         "58.1695",
         "-151.9924",
         "50.1",
         "2.1",
         "48km NNE of Kodiak, Alaska",
         "earthquake"
        ],
        [
         "nc72153361",
         "2014-01-31 23:17:34.300",
         "37.686",
         "-121.7287",
         "4.2",
         "1.6",
         "3km E of Livermore, California",
         "earthquake"
        ],
        [
         "usc000mqlp",
         "2014-01-31 23:08:03.660",
         "-4.9758",
         "153.9466",
         "110.18",
         "4.2",
         "115km ESE of Taron, Papua New Guinea",
         "earthquake"
        ],
        [
         "ak11155101",
         "2014-01-31 23:01:26.000",
         "60.3852",
         "-147.6505",
         "13.1",
         "1.1",
         "71km SE of Whittier, Alaska",
         "earthquake"
        ],
        [
         "nc72153351",
         "2014-01-31 22:56:11.900",
         "38.7812",
         "-122.7558",
         "2.1",
         "0.9",
         "0km N of The Geysers, California",
         "earthquake"
        ],
        [
         "nc72153356",
         "2014-01-31 22:55:55.900",
         "37.6348",
         "-119.0195",
         "4.2",
         "0.1",
         "4km WSW of Mammoth Lakes, California",
         "earthquake"
        ],
        [
         "usc000mqln",
         "2014-01-31 22:54:32.970",
         "-28.1775",
         "-177.9058",
         "95.84",
         "4.3",
         "120km N of Raoul Island, New Zealand",
         "earthquake"
        ],
        [
         "nm020414a",
         "2014-01-31 22:54:06.200",
         "36.5383",
         "-89.62899999999999",
         "7.8",
         "1.5",
         "6km SSW of Lilbourn, Missouri",
         "earthquake"
        ],
        [
         "usc000mqls",
         "2014-01-31 22:49:49.740",
         "-23.1192",
         "179.1174",
         "528.34",
         "4.4",
         "South of the Fiji Islands",
         "earthquake"
        ],
        [
         "ci11419698",
         "2014-01-31 22:49:13.930",
         "33.003",
         "-116.3211667",
         "10.49",
         "1.78",
         "27km ESE of Julian, California",
         "earthquake"
        ],
        [
         "ci11419706",
         "2014-01-31 22:47:21.750",
         "36.1316667",
         "-118.07916670000002",
         "5.61",
         "1.18",
         "52km S of Lone Pine, California",
         "earthquake"
        ],
        [
         "ak11151102",
         "2014-01-31 22:45:19.000",
         "64.9954",
         "-147.3313",
         "0.1",
         "1.1",
         "23km NNE of Badger, Alaska",
         "earthquake"
        ],
        [
         "nc72153341",
         "2014-01-31 22:35:53.900",
         "38.5858",
         "-122.4583",
         "6.7",
         "1.2",
         "1km NNW of Angwin, California",
         "earthquake"
        ],
        [
         "mb14328395",
         "2014-01-31 22:31:14.800",
         "46.8201",
         "-112.1996",
         "7.9",
         "1.5",
         "14km NW of Helena Valley Northwest, Montana",
         "earthquake"
        ],
        [
         "ci11419690",
         "2014-01-31 22:30:54.000",
         "35.9873333",
         "-117.4145",
         "7.99",
         "0.94",
         "24km N of Searles Valley, California",
         "earthquake"
        ],
        [
         "nc72153331",
         "2014-01-31 22:26:40.400",
         "38.8175",
         "-122.816",
         "3.0",
         "0.5",
         "6km NW of The Geysers, California",
         "earthquake"
        ],
        [
         "pr14031002",
         "2014-01-31 22:22:14.600",
         "18.4825",
         "-64.7608",
         "91.0",
         "3.4",
         "16km WNW of Road Town, British Virgin Islands",
         "earthquake"
        ],
        [
         "ak11151084",
         "2014-01-31 22:20:19.000",
         "61.7426",
         "-152.0098",
         "102.2",
         "1.4",
         "104km W of Willow, Alaska",
         "earthquake"
        ],
        [
         "usc000mf1x",
         "2014-01-31 22:19:44.330",
         "51.1569",
         "-178.09099999999998",
         "37.5",
         "4.2",
         "72km E of Amatignak Island, Alaska",
         "earthquake"
        ],
        [
         "ci11419682",
         "2014-01-31 22:19:12.180",
         "34.3155",
         "-116.9008333",
         "9.15",
         "0.96",
         "7km NW of Big Bear City, California",
         "earthquake"
        ],
        [
         "ci11419674",
         "2014-01-31 22:17:28.030",
         "33.367",
         "-116.3881667",
         "13.02",
         "1.02",
         "12km N of Borrego Springs, California",
         "earthquake"
        ],
        [
         "ak11151076",
         "2014-01-31 22:16:01.000",
         "60.0398",
         "-141.7629",
         "4.2",
         "1.2",
         "37km E of Cape Yakataga, Alaska",
         "earthquake"
        ],
        [
         "usc000mqlm",
         "2014-01-31 21:56:44.320",
         "-4.88",
         "153.8434",
         "112.66",
         "4.3",
         "100km ESE of Taron, Papua New Guinea",
         "earthquake"
        ],
        [
         "uw60681502",
         "2014-01-31 21:53:31.700",
         "45.0483",
         "-122.451",
         "15.3",
         "1.4",
         "14km SE of Molalla, Oregon",
         "earthquake"
        ],
        [
         "nc72153321",
         "2014-01-31 21:49:18.700",
         "37.6338",
         "-118.9663",
         "9.1",
         "0.4",
         "1km SSE of Mammoth Lakes, California",
         "earthquake"
        ],
        [
         "ak11151061",
         "2014-01-31 21:43:33.000",
         "51.0391",
         "-176.1804",
         "25.1",
         "2.2",
         "99km SSE of Adak, Alaska",
         "earthquake"
        ],
        [
         "ak11155095",
         "2014-01-31 21:34:51.000",
         "51.4028",
         "-174.0105",
         "9.1",
         "2.2",
         "89km S of Atka, Alaska",
         "earthquake"
        ],
        [
         "ak11151037",
         "2014-01-31 21:20:54.000",
         "58.0887",
         "-151.6567",
         "45.6",
         "4.0",
         "53km NE of Kodiak, Alaska",
         "earthquake"
        ],
        [
         "usc000mez1",
         "2014-01-31 21:20:29.390",
         "-4.9036",
         "153.7511",
         "104.58",
         "4.7",
         "93km ESE of Taron, Papua New Guinea",
         "earthquake"
        ],
        [
         "ak11151035",
         "2014-01-31 21:18:56.000",
         "64.2797",
         "-140.4739",
         "5.4",
         "2.6",
         "58km WNW of Dawson, Canada",
         "earthquake"
        ],
        [
         "ak11155092",
         "2014-01-31 21:17:12.000",
         "59.9809",
         "-139.4754",
         "1.8",
         "1.3",
         "50km NNE of Yakutat, Alaska",
         "earthquake"
        ],
        [
         "usc000meyz",
         "2014-01-31 21:13:58.930",
         "-16.21",
         "178.2133",
         "30.99",
         "4.5",
         "127km W of Lambasa, Fiji",
         "earthquake"
        ],
        [
         "nc72153306",
         "2014-01-31 21:10:25.600",
         "37.6313",
         "-119.02",
         "4.7",
         "0.7",
         "4km WSW of Mammoth Lakes, California",
         "earthquake"
        ],
        [
         "nc72153301",
         "2014-01-31 21:09:01.900",
         "38.7793",
         "-122.757",
         "1.7",
         "0.4",
         "0km NNW of The Geysers, California",
         "earthquake"
        ],
        [
         "ci11419666",
         "2014-01-31 21:07:01.770",
         "33.5075",
         "-116.447",
         "10.06",
         "0.59",
         "21km SW of La Quinta, California",
         "earthquake"
        ],
        [
         "ak11151032",
         "2014-01-31 21:06:17.000",
         "65.0031",
         "-149.1885",
         "51.0",
         "0.8",
         "47km N of North Nenana, Alaska",
         "earthquake"
        ],
        [
         "ak11151029",
         "2014-01-31 21:01:59.000",
         "63.7936",
         "-152.6944",
         "6.5",
         "2.0",
         "156km S of Tanana, Alaska",
         "earthquake"
        ],
        [
         "ci11419658",
         "2014-01-31 20:53:22.180",
         "33.625666700000004",
         "-117.88566670000002",
         "11.47",
         "1.67",
         "3km ESE of Costa Mesa, California",
         "earthquake"
        ],
        [
         "ak11151026",
         "2014-01-31 20:48:43.000",
         "61.5568",
         "-150.1317",
         "36.4",
         "1.5",
         "10km WNW of Big Lake, Alaska",
         "earthquake"
        ],
        [
         "nc72153281",
         "2014-01-31 20:42:19.800",
         "38.8185",
         "-122.8237",
         "3.8",
         "0.6",
         "7km NW of The Geysers, California",
         "earthquake"
        ],
        [
         "ci11419650",
         "2014-01-31 20:38:54.100",
         "34.0166667",
         "-116.765",
         "20.18",
         "1.04",
         "11km N of Cabazon, California",
         "earthquake"
        ],
        [
         "nc72153276",
         "2014-01-31 20:38:01.300",
         "36.7923",
         "-121.2782",
         "7.9",
         "0.8",
         "8km ESE of Ridgemark, California",
         "earthquake"
        ],
        [
         "nc72153266",
         "2014-01-31 20:35:58.900",
         "37.6328",
         "-119.0205",
         "4.8",
         "0.8",
         "4km WSW of Mammoth Lakes, California",
         "earthquake"
        ]
       ],
       "shape": {
        "columns": 7,
        "rows": 118398
       }
      },
      "text/html": [
       "<div>\n",
       "<style scoped>\n",
       "    .dataframe tbody tr th:only-of-type {\n",
       "        vertical-align: middle;\n",
       "    }\n",
       "\n",
       "    .dataframe tbody tr th {\n",
       "        vertical-align: top;\n",
       "    }\n",
       "\n",
       "    .dataframe thead th {\n",
       "        text-align: right;\n",
       "    }\n",
       "</style>\n",
       "<table border=\"1\" class=\"dataframe\">\n",
       "  <thead>\n",
       "    <tr style=\"text-align: right;\">\n",
       "      <th></th>\n",
       "      <th>time</th>\n",
       "      <th>latitude</th>\n",
       "      <th>longitude</th>\n",
       "      <th>depth</th>\n",
       "      <th>mag</th>\n",
       "      <th>place</th>\n",
       "      <th>type</th>\n",
       "    </tr>\n",
       "    <tr>\n",
       "      <th>id</th>\n",
       "      <th></th>\n",
       "      <th></th>\n",
       "      <th></th>\n",
       "      <th></th>\n",
       "      <th></th>\n",
       "      <th></th>\n",
       "      <th></th>\n",
       "    </tr>\n",
       "  </thead>\n",
       "  <tbody>\n",
       "    <tr>\n",
       "      <th>ak11155107</th>\n",
       "      <td>2014-01-31 23:53:37.000</td>\n",
       "      <td>60.252000</td>\n",
       "      <td>-152.708100</td>\n",
       "      <td>90.20</td>\n",
       "      <td>1.10</td>\n",
       "      <td>26km S of Redoubt Volcano, Alaska</td>\n",
       "      <td>earthquake</td>\n",
       "    </tr>\n",
       "    <tr>\n",
       "      <th>nn00436847</th>\n",
       "      <td>2014-01-31 23:48:35.452</td>\n",
       "      <td>37.070300</td>\n",
       "      <td>-115.130900</td>\n",
       "      <td>0.00</td>\n",
       "      <td>1.33</td>\n",
       "      <td>32km S of Alamo, Nevada</td>\n",
       "      <td>earthquake</td>\n",
       "    </tr>\n",
       "    <tr>\n",
       "      <th>ak11151142</th>\n",
       "      <td>2014-01-31 23:47:24.000</td>\n",
       "      <td>64.671700</td>\n",
       "      <td>-149.252800</td>\n",
       "      <td>7.10</td>\n",
       "      <td>1.30</td>\n",
       "      <td>12km NNW of North Nenana, Alaska</td>\n",
       "      <td>earthquake</td>\n",
       "    </tr>\n",
       "    <tr>\n",
       "      <th>ak11151135</th>\n",
       "      <td>2014-01-31 23:30:54.000</td>\n",
       "      <td>63.188700</td>\n",
       "      <td>-148.957500</td>\n",
       "      <td>96.50</td>\n",
       "      <td>0.80</td>\n",
       "      <td>22km S of Cantwell, Alaska</td>\n",
       "      <td>earthquake</td>\n",
       "    </tr>\n",
       "    <tr>\n",
       "      <th>ci37171541</th>\n",
       "      <td>2014-01-31 23:30:52.210</td>\n",
       "      <td>32.616833</td>\n",
       "      <td>-115.692500</td>\n",
       "      <td>10.59</td>\n",
       "      <td>1.34</td>\n",
       "      <td>10km WNW of Progreso, Mexico</td>\n",
       "      <td>earthquake</td>\n",
       "    </tr>\n",
       "    <tr>\n",
       "      <th>...</th>\n",
       "      <td>...</td>\n",
       "      <td>...</td>\n",
       "      <td>...</td>\n",
       "      <td>...</td>\n",
       "      <td>...</td>\n",
       "      <td>...</td>\n",
       "      <td>...</td>\n",
       "    </tr>\n",
       "    <tr>\n",
       "      <th>ak11453391</th>\n",
       "      <td>2014-12-01 00:10:16.000</td>\n",
       "      <td>60.963900</td>\n",
       "      <td>-146.762900</td>\n",
       "      <td>14.80</td>\n",
       "      <td>3.80</td>\n",
       "      <td>29km SW of Valdez, Alaska</td>\n",
       "      <td>earthquake</td>\n",
       "    </tr>\n",
       "    <tr>\n",
       "      <th>ak11453395</th>\n",
       "      <td>2014-12-01 00:09:39.000</td>\n",
       "      <td>58.869100</td>\n",
       "      <td>-154.415900</td>\n",
       "      <td>108.40</td>\n",
       "      <td>2.40</td>\n",
       "      <td>102km SSE of Old Iliamna, Alaska</td>\n",
       "      <td>earthquake</td>\n",
       "    </tr>\n",
       "    <tr>\n",
       "      <th>nc72358451</th>\n",
       "      <td>2014-12-01 00:09:25.350</td>\n",
       "      <td>38.843498</td>\n",
       "      <td>-122.825836</td>\n",
       "      <td>2.37</td>\n",
       "      <td>0.43</td>\n",
       "      <td>9km WNW of Cobb, California</td>\n",
       "      <td>earthquake</td>\n",
       "    </tr>\n",
       "    <tr>\n",
       "      <th>ak11453390</th>\n",
       "      <td>2014-12-01 00:05:54.000</td>\n",
       "      <td>65.152100</td>\n",
       "      <td>-148.992000</td>\n",
       "      <td>9.50</td>\n",
       "      <td>0.40</td>\n",
       "      <td>57km NW of Ester, Alaska</td>\n",
       "      <td>earthquake</td>\n",
       "    </tr>\n",
       "    <tr>\n",
       "      <th>ak11453389</th>\n",
       "      <td>2014-12-01 00:04:05.000</td>\n",
       "      <td>60.227200</td>\n",
       "      <td>-147.024500</td>\n",
       "      <td>2.50</td>\n",
       "      <td>1.60</td>\n",
       "      <td>78km WSW of Cordova, Alaska</td>\n",
       "      <td>earthquake</td>\n",
       "    </tr>\n",
       "  </tbody>\n",
       "</table>\n",
       "<p>118398 rows × 7 columns</p>\n",
       "</div>"
      ],
      "text/plain": [
       "                               time   latitude   longitude   depth   mag  \\\n",
       "id                                                                         \n",
       "ak11155107  2014-01-31 23:53:37.000  60.252000 -152.708100   90.20  1.10   \n",
       "nn00436847  2014-01-31 23:48:35.452  37.070300 -115.130900    0.00  1.33   \n",
       "ak11151142  2014-01-31 23:47:24.000  64.671700 -149.252800    7.10  1.30   \n",
       "ak11151135  2014-01-31 23:30:54.000  63.188700 -148.957500   96.50  0.80   \n",
       "ci37171541  2014-01-31 23:30:52.210  32.616833 -115.692500   10.59  1.34   \n",
       "...                             ...        ...         ...     ...   ...   \n",
       "ak11453391  2014-12-01 00:10:16.000  60.963900 -146.762900   14.80  3.80   \n",
       "ak11453395  2014-12-01 00:09:39.000  58.869100 -154.415900  108.40  2.40   \n",
       "nc72358451  2014-12-01 00:09:25.350  38.843498 -122.825836    2.37  0.43   \n",
       "ak11453390  2014-12-01 00:05:54.000  65.152100 -148.992000    9.50  0.40   \n",
       "ak11453389  2014-12-01 00:04:05.000  60.227200 -147.024500    2.50  1.60   \n",
       "\n",
       "                                        place        type  \n",
       "id                                                         \n",
       "ak11155107  26km S of Redoubt Volcano, Alaska  earthquake  \n",
       "nn00436847            32km S of Alamo, Nevada  earthquake  \n",
       "ak11151142   12km NNW of North Nenana, Alaska  earthquake  \n",
       "ak11151135         22km S of Cantwell, Alaska  earthquake  \n",
       "ci37171541       10km WNW of Progreso, Mexico  earthquake  \n",
       "...                                       ...         ...  \n",
       "ak11453391          29km SW of Valdez, Alaska  earthquake  \n",
       "ak11453395   102km SSE of Old Iliamna, Alaska  earthquake  \n",
       "nc72358451        9km WNW of Cobb, California  earthquake  \n",
       "ak11453390           57km NW of Ester, Alaska  earthquake  \n",
       "ak11453389        78km WSW of Cordova, Alaska  earthquake  \n",
       "\n",
       "[118398 rows x 7 columns]"
      ]
     },
     "execution_count": 16,
     "metadata": {},
     "output_type": "execute_result"
    }
   ],
   "source": [
    "# View the dataframe\n",
    "eqk"
   ]
  },
  {
   "cell_type": "code",
   "execution_count": 17,
   "metadata": {
    "deletable": false,
    "editable": false
   },
   "outputs": [
    {
     "data": {
      "text/html": [
       "<p><strong><pre style='display: inline;'>q4_a</pre></strong> passed! 🌟</p>"
      ],
      "text/plain": [
       "q4_a results: All test cases passed!"
      ]
     },
     "execution_count": 17,
     "metadata": {},
     "output_type": "execute_result"
    }
   ],
   "source": [
    "grader.check(\"q4_a\")"
   ]
  },
  {
   "cell_type": "markdown",
   "metadata": {
    "deletable": false,
    "editable": false
   },
   "source": [
    "b. Check the new index by viewing the first 3 rows of `eqk`. Store your results in the `eqk_3` variable. "
   ]
  },
  {
   "cell_type": "code",
   "execution_count": 18,
   "metadata": {
    "tags": [
     "otter_answer_cell"
    ]
   },
   "outputs": [],
   "source": [
    "eqk_3 = eqk.head(n=3)"
   ]
  },
  {
   "cell_type": "code",
   "execution_count": 19,
   "metadata": {
    "tags": [
     "otter_answer_cell"
    ]
   },
   "outputs": [
    {
     "data": {
      "application/vnd.microsoft.datawrangler.viewer.v0+json": {
       "columns": [
        {
         "name": "id",
         "rawType": "object",
         "type": "string"
        },
        {
         "name": "time",
         "rawType": "object",
         "type": "string"
        },
        {
         "name": "latitude",
         "rawType": "float64",
         "type": "float"
        },
        {
         "name": "longitude",
         "rawType": "float64",
         "type": "float"
        },
        {
         "name": "depth",
         "rawType": "float64",
         "type": "float"
        },
        {
         "name": "mag",
         "rawType": "float64",
         "type": "float"
        },
        {
         "name": "place",
         "rawType": "object",
         "type": "string"
        },
        {
         "name": "type",
         "rawType": "object",
         "type": "string"
        }
       ],
       "ref": "85222f65-cdc6-4847-ad8e-6d098d6ac705",
       "rows": [
        [
         "ak11155107",
         "2014-01-31 23:53:37.000",
         "60.252",
         "-152.7081",
         "90.2",
         "1.1",
         "26km S of Redoubt Volcano, Alaska",
         "earthquake"
        ],
        [
         "nn00436847",
         "2014-01-31 23:48:35.452",
         "37.0703",
         "-115.1309",
         "0.0",
         "1.33",
         "32km S of Alamo, Nevada",
         "earthquake"
        ],
        [
         "ak11151142",
         "2014-01-31 23:47:24.000",
         "64.6717",
         "-149.2528",
         "7.1",
         "1.3",
         "12km NNW of North Nenana, Alaska",
         "earthquake"
        ]
       ],
       "shape": {
        "columns": 7,
        "rows": 3
       }
      },
      "text/html": [
       "<div>\n",
       "<style scoped>\n",
       "    .dataframe tbody tr th:only-of-type {\n",
       "        vertical-align: middle;\n",
       "    }\n",
       "\n",
       "    .dataframe tbody tr th {\n",
       "        vertical-align: top;\n",
       "    }\n",
       "\n",
       "    .dataframe thead th {\n",
       "        text-align: right;\n",
       "    }\n",
       "</style>\n",
       "<table border=\"1\" class=\"dataframe\">\n",
       "  <thead>\n",
       "    <tr style=\"text-align: right;\">\n",
       "      <th></th>\n",
       "      <th>time</th>\n",
       "      <th>latitude</th>\n",
       "      <th>longitude</th>\n",
       "      <th>depth</th>\n",
       "      <th>mag</th>\n",
       "      <th>place</th>\n",
       "      <th>type</th>\n",
       "    </tr>\n",
       "    <tr>\n",
       "      <th>id</th>\n",
       "      <th></th>\n",
       "      <th></th>\n",
       "      <th></th>\n",
       "      <th></th>\n",
       "      <th></th>\n",
       "      <th></th>\n",
       "      <th></th>\n",
       "    </tr>\n",
       "  </thead>\n",
       "  <tbody>\n",
       "    <tr>\n",
       "      <th>ak11155107</th>\n",
       "      <td>2014-01-31 23:53:37.000</td>\n",
       "      <td>60.2520</td>\n",
       "      <td>-152.7081</td>\n",
       "      <td>90.2</td>\n",
       "      <td>1.10</td>\n",
       "      <td>26km S of Redoubt Volcano, Alaska</td>\n",
       "      <td>earthquake</td>\n",
       "    </tr>\n",
       "    <tr>\n",
       "      <th>nn00436847</th>\n",
       "      <td>2014-01-31 23:48:35.452</td>\n",
       "      <td>37.0703</td>\n",
       "      <td>-115.1309</td>\n",
       "      <td>0.0</td>\n",
       "      <td>1.33</td>\n",
       "      <td>32km S of Alamo, Nevada</td>\n",
       "      <td>earthquake</td>\n",
       "    </tr>\n",
       "    <tr>\n",
       "      <th>ak11151142</th>\n",
       "      <td>2014-01-31 23:47:24.000</td>\n",
       "      <td>64.6717</td>\n",
       "      <td>-149.2528</td>\n",
       "      <td>7.1</td>\n",
       "      <td>1.30</td>\n",
       "      <td>12km NNW of North Nenana, Alaska</td>\n",
       "      <td>earthquake</td>\n",
       "    </tr>\n",
       "  </tbody>\n",
       "</table>\n",
       "</div>"
      ],
      "text/plain": [
       "                               time  latitude  longitude  depth   mag  \\\n",
       "id                                                                      \n",
       "ak11155107  2014-01-31 23:53:37.000   60.2520  -152.7081   90.2  1.10   \n",
       "nn00436847  2014-01-31 23:48:35.452   37.0703  -115.1309    0.0  1.33   \n",
       "ak11151142  2014-01-31 23:47:24.000   64.6717  -149.2528    7.1  1.30   \n",
       "\n",
       "                                        place        type  \n",
       "id                                                         \n",
       "ak11155107  26km S of Redoubt Volcano, Alaska  earthquake  \n",
       "nn00436847            32km S of Alamo, Nevada  earthquake  \n",
       "ak11151142   12km NNW of North Nenana, Alaska  earthquake  "
      ]
     },
     "execution_count": 19,
     "metadata": {},
     "output_type": "execute_result"
    }
   ],
   "source": [
    "# View the dataframe\n",
    "eqk_3"
   ]
  },
  {
   "cell_type": "code",
   "execution_count": 20,
   "metadata": {
    "deletable": false,
    "editable": false
   },
   "outputs": [
    {
     "data": {
      "text/html": [
       "<p><strong><pre style='display: inline;'>q4_b</pre></strong> passed! 🍀</p>"
      ],
      "text/plain": [
       "q4_b results: All test cases passed!"
      ]
     },
     "execution_count": 20,
     "metadata": {},
     "output_type": "execute_result"
    }
   ],
   "source": [
    "grader.check(\"q4_b\")"
   ]
  },
  {
   "cell_type": "markdown",
   "metadata": {
    "deletable": false,
    "editable": false
   },
   "source": [
    "# 5\n",
    "\n",
    "How many events were left out of `raw_eqk` when you selected only earthquake events? Store your answer in the `omitted_events` variable. \n",
    "\n",
    "HINT: There are *many* ways you can get this information. One could be to use (2). "
   ]
  },
  {
   "cell_type": "code",
   "execution_count": 21,
   "metadata": {
    "tags": [
     "otter_answer_cell"
    ]
   },
   "outputs": [],
   "source": [
    "omitted_events = raw_eqk[raw_eqk['type'] != 'earthquake'].shape[0]"
   ]
  },
  {
   "cell_type": "code",
   "execution_count": 22,
   "metadata": {
    "deletable": false,
    "editable": false
   },
   "outputs": [
    {
     "data": {
      "text/html": [
       "<p><strong><pre style='display: inline;'>q5</pre></strong> passed! 💯</p>"
      ],
      "text/plain": [
       "q5 results: All test cases passed!"
      ]
     },
     "execution_count": 22,
     "metadata": {},
     "output_type": "execute_result"
    }
   ],
   "source": [
    "grader.check(\"q5\")"
   ]
  },
  {
   "cell_type": "markdown",
   "metadata": {
    "deletable": false,
    "editable": false
   },
   "source": [
    "<!-- BEGIN QUESTION -->\n",
    "\n",
    "# 6\n",
    "Without creating any new variables, plot a histogram of the eartquake's magnitudes (`eqk` data). Add a title and change the color of your graph."
   ]
  },
  {
   "cell_type": "code",
   "execution_count": 23,
   "metadata": {
    "tags": [
     "otter_answer_cell"
    ]
   },
   "outputs": [
    {
     "data": {
      "text/plain": [
       "<Axes: title={'center': 'Magnitude Histogram'}, ylabel='Frequency'>"
      ]
     },
     "execution_count": 23,
     "metadata": {},
     "output_type": "execute_result"
    },
    {
     "data": {
      "image/png": "[encoded data removed]",
      "text/plain": [
       "<Figure size 640x480 with 1 Axes>"
      ]
     },
     "metadata": {},
     "output_type": "display_data"
    }
   ],
   "source": [
    "eqk['mag'].plot(kind='hist', title=\"Magnitude Histogram\", color='brown')"
   ]
  },
  {
   "cell_type": "markdown",
   "metadata": {
    "deletable": false,
    "editable": false
   },
   "source": [
    "<!-- END QUESTION -->\n",
    "\n",
    "# 7\n",
    "\n",
    "a. Create a new variable `top20` with the 20 earthquakes with largest magnitude. HINT: check the method [`pandas.Series.nlargest`](https://pandas.pydata.org/docs/reference/api/pandas.Series.nlargest.html). Your answer should contain only the `id` and `mag` columns. "
   ]
  },
  {
   "cell_type": "code",
   "execution_count": 24,
   "metadata": {
    "tags": [
     "otter_answer_cell"
    ]
   },
   "outputs": [],
   "source": [
    "# eqk has index as 'id' column in Question 4a. Use eqk dataframe for .nlargest()\n",
    "top20 = eqk['mag'].nlargest(n=20)"
   ]
  },
  {
   "cell_type": "code",
   "execution_count": 25,
   "metadata": {
    "tags": [
     "otter_answer_cell"
    ]
   },
   "outputs": [
    {
     "data": {
      "application/vnd.microsoft.datawrangler.viewer.v0+json": {
       "columns": [
        {
         "name": "id",
         "rawType": "object",
         "type": "string"
        },
        {
         "name": "mag",
         "rawType": "float64",
         "type": "float"
        }
       ],
       "ref": "83bfb04f-9e80-402a-9a8c-d22e50f56a19",
       "rows": [
        [
         "usc000nzvd",
         "8.2"
        ],
        [
         "usc000rki5",
         "7.9"
        ],
        [
         "usc000p27i",
         "7.7"
        ],
        [
         "usc000phx5",
         "7.6"
        ],
        [
         "usb000pr89",
         "7.5"
        ],
        [
         "usc000piqj",
         "7.4"
        ],
        [
         "usb000slwn",
         "7.3"
        ],
        [
         "usb000pq41",
         "7.2"
        ],
        [
         "usc000pft9",
         "7.1"
        ],
        [
         "usc000sxh8",
         "7.1"
        ],
        [
         "usc000stdc",
         "7.1"
        ],
        [
         "usb000sk6k",
         "7.0"
        ],
        [
         "usc000mnvj",
         "6.9"
        ],
        [
         "usc000nzwm",
         "6.9"
        ],
        [
         "usb000r2hc",
         "6.9"
        ],
        [
         "usc000rngj",
         "6.9"
        ],
        [
         "usc000rkg5",
         "6.9"
        ],
        [
         "usb000ruzk",
         "6.9"
        ],
        [
         "usc000rr6a",
         "6.9"
        ],
        [
         "usb000rzki",
         "6.9"
        ]
       ],
       "shape": {
        "columns": 1,
        "rows": 20
       }
      },
      "text/plain": [
       "id\n",
       "usc000nzvd    8.2\n",
       "usc000rki5    7.9\n",
       "usc000p27i    7.7\n",
       "usc000phx5    7.6\n",
       "usb000pr89    7.5\n",
       "usc000piqj    7.4\n",
       "usb000slwn    7.3\n",
       "usb000pq41    7.2\n",
       "usc000pft9    7.1\n",
       "usc000sxh8    7.1\n",
       "usc000stdc    7.1\n",
       "usb000sk6k    7.0\n",
       "usc000mnvj    6.9\n",
       "usc000nzwm    6.9\n",
       "usb000r2hc    6.9\n",
       "usc000rngj    6.9\n",
       "usc000rkg5    6.9\n",
       "usb000ruzk    6.9\n",
       "usc000rr6a    6.9\n",
       "usb000rzki    6.9\n",
       "Name: mag, dtype: float64"
      ]
     },
     "execution_count": 25,
     "metadata": {},
     "output_type": "execute_result"
    }
   ],
   "source": [
    "# View the dataframe \n",
    "top20"
   ]
  },
  {
   "cell_type": "code",
   "execution_count": 26,
   "metadata": {
    "deletable": false,
    "editable": false
   },
   "outputs": [
    {
     "data": {
      "text/html": [
       "<p><strong><pre style='display: inline;'>q7_a</pre></strong> passed! 🌟</p>"
      ],
      "text/plain": [
       "q7_a results: All test cases passed!"
      ]
     },
     "execution_count": 26,
     "metadata": {},
     "output_type": "execute_result"
    }
   ],
   "source": [
    "grader.check(\"q7_a\")"
   ]
  },
  {
   "cell_type": "markdown",
   "metadata": {
    "deletable": false,
    "editable": false
   },
   "source": [
    "<!-- BEGIN QUESTION -->\n",
    "\n",
    "b. Create a bar plot showing the magnitude of the top 20 earthquakes. Update the title, x-axis label, y-axis label, and color of the bars. "
   ]
  },
  {
   "cell_type": "code",
   "execution_count": 28,
   "metadata": {
    "tags": [
     "otter_answer_cell"
    ]
   },
   "outputs": [
    {
     "data": {
      "text/plain": [
       "<Axes: title={'center': 'Top 20 Most Powerful Earthquakes'}, xlabel='Magnitude', ylabel='Earthquake ID'>"
      ]
     },
     "execution_count": 28,
     "metadata": {},
     "output_type": "execute_result"
    },
    {
     "data": {
      "image/png": "[encoded data removed]",
      "text/plain": [
       "<Figure size 640x480 with 1 Axes>"
      ]
     },
     "metadata": {},
     "output_type": "display_data"
    }
   ],
   "source": [
    "top20.plot(kind='barh',\n",
    "           title = \"Top 20 Most Powerful Earthquakes\",\n",
    "           xlabel=\"Magnitude\",\n",
    "           ylabel=\"Earthquake ID\",\n",
    "           color = \"firebrick\")"
   ]
  },
  {
   "cell_type": "markdown",
   "metadata": {
    "deletable": false,
    "editable": false
   },
   "source": [
    "<!-- END QUESTION -->\n",
    "\n",
    "<!-- BEGIN QUESTION -->\n",
    "\n",
    "c. What is the role of the `top20` index in the graph? What would have happened if we had not updated the index?"
   ]
  },
  {
   "cell_type": "markdown",
   "metadata": {
    "tags": [
     "otter_answer_cell"
    ]
   },
   "source": [
    "- The index serves as one of the axes on the graph. If we had not updated the index, we would have had to specify the y-axis explicitly."
   ]
  },
  {
   "cell_type": "markdown",
   "metadata": {
    "deletable": false,
    "editable": false
   },
   "source": [
    "<!-- END QUESTION -->\n",
    "\n",
    "# 8 \n",
    "We are interested in the place, magnitude, and depth of the top 20 earthquakes with largest magnitude. Select this data from the `eqk` data frame. Store your answer in the `top20_filtered` variable. \n",
    "\n",
    "HINT: This is a \"select rows and columns simultaneously\" from `eqk` exercise. To select the rows you could use the index of `top20`. Make sure your columns are in the following order to pass the test: `place`, `mag`, `depth`. "
   ]
  },
  {
   "cell_type": "code",
   "execution_count": 32,
   "metadata": {},
   "outputs": [
    {
     "data": {
      "text/plain": [
       "list"
      ]
     },
     "execution_count": 32,
     "metadata": {},
     "output_type": "execute_result"
    }
   ],
   "source": [
    "type(list(top20.index))"
   ]
  },
  {
   "cell_type": "code",
   "execution_count": 36,
   "metadata": {
    "tags": [
     "otter_answer_cell"
    ]
   },
   "outputs": [],
   "source": [
    "top20_filtered = eqk.loc[top20.index, ['place', 'mag', 'depth']]"
   ]
  },
  {
   "cell_type": "code",
   "execution_count": 37,
   "metadata": {
    "tags": [
     "otter_answer_cell"
    ]
   },
   "outputs": [
    {
     "data": {
      "application/vnd.microsoft.datawrangler.viewer.v0+json": {
       "columns": [
        {
         "name": "id",
         "rawType": "object",
         "type": "string"
        },
        {
         "name": "place",
         "rawType": "object",
         "type": "string"
        },
        {
         "name": "mag",
         "rawType": "float64",
         "type": "float"
        },
        {
         "name": "depth",
         "rawType": "float64",
         "type": "float"
        }
       ],
       "ref": "ce5db222-737a-4d8f-9704-33cf5d8f3b35",
       "rows": [
        [
         "usc000nzvd",
         "94km NW of Iquique, Chile",
         "8.2",
         "25.0"
        ],
        [
         "usc000rki5",
         "19km SE of Little Sitkin Island, Alaska",
         "7.9",
         "109.0"
        ],
        [
         "usc000p27i",
         "53km SW of Iquique, Chile",
         "7.7",
         "22.4"
        ],
        [
         "usc000phx5",
         "93km SSE of Kirakira, Solomon Islands",
         "7.6",
         "22.56"
        ],
        [
         "usb000pr89",
         "70km SW of Panguna, Papua New Guinea",
         "7.5",
         "43.37"
        ],
        [
         "usc000piqj",
         "112km S of Kirakira, Solomon Islands",
         "7.4",
         "39.0"
        ],
        [
         "usb000slwn",
         "74km S of Intipuca, El Salvador",
         "7.3",
         "40.0"
        ],
        [
         "usb000pq41",
         "33km ESE of Petatlan, Mexico",
         "7.2",
         "24.0"
        ],
        [
         "usc000pft9",
         "56km WSW of Panguna, Papua New Guinea",
         "7.1",
         "60.53"
        ],
        [
         "usc000sxh8",
         "154km NW of Kota Ternate, Indonesia",
         "7.1",
         "45.0"
        ],
        [
         "usc000stdc",
         "144km NE of Ndoi Island, Fiji",
         "7.1",
         "434.0"
        ],
        [
         "usb000sk6k",
         "Southern East Pacific Rise",
         "7.0",
         "16.54"
        ],
        [
         "usc000mnvj",
         "272km ESE of Hotan, China",
         "6.9",
         "10.0"
        ],
        [
         "usc000nzwm",
         "91km WNW of Iquique, Chile",
         "6.9",
         "28.42"
        ],
        [
         "usb000r2hc",
         "22km SSW of Kamariotissa, Greece",
         "6.9",
         "6.43"
        ],
        [
         "usc000rngj",
         "154km NNW of Visokoi Island, ",
         "6.9",
         "8.0"
        ],
        [
         "usc000rkg5",
         "80km SSE of Raoul Island, New Zealand",
         "6.9",
         "20.0"
        ],
        [
         "usb000ruzk",
         "99km NNE of Ndoi Island, Fiji",
         "6.9",
         "615.42"
        ],
        [
         "usc000rr6a",
         "4km W of Puerto Madero, Mexico",
         "6.9",
         "53.0"
        ],
        [
         "usb000rzki",
         "Federated States of Micronesia region",
         "6.9",
         "13.0"
        ]
       ],
       "shape": {
        "columns": 3,
        "rows": 20
       }
      },
      "text/html": [
       "<div>\n",
       "<style scoped>\n",
       "    .dataframe tbody tr th:only-of-type {\n",
       "        vertical-align: middle;\n",
       "    }\n",
       "\n",
       "    .dataframe tbody tr th {\n",
       "        vertical-align: top;\n",
       "    }\n",
       "\n",
       "    .dataframe thead th {\n",
       "        text-align: right;\n",
       "    }\n",
       "</style>\n",
       "<table border=\"1\" class=\"dataframe\">\n",
       "  <thead>\n",
       "    <tr style=\"text-align: right;\">\n",
       "      <th></th>\n",
       "      <th>place</th>\n",
       "      <th>mag</th>\n",
       "      <th>depth</th>\n",
       "    </tr>\n",
       "    <tr>\n",
       "      <th>id</th>\n",
       "      <th></th>\n",
       "      <th></th>\n",
       "      <th></th>\n",
       "    </tr>\n",
       "  </thead>\n",
       "  <tbody>\n",
       "    <tr>\n",
       "      <th>usc000nzvd</th>\n",
       "      <td>94km NW of Iquique, Chile</td>\n",
       "      <td>8.2</td>\n",
       "      <td>25.00</td>\n",
       "    </tr>\n",
       "    <tr>\n",
       "      <th>usc000rki5</th>\n",
       "      <td>19km SE of Little Sitkin Island, Alaska</td>\n",
       "      <td>7.9</td>\n",
       "      <td>109.00</td>\n",
       "    </tr>\n",
       "    <tr>\n",
       "      <th>usc000p27i</th>\n",
       "      <td>53km SW of Iquique, Chile</td>\n",
       "      <td>7.7</td>\n",
       "      <td>22.40</td>\n",
       "    </tr>\n",
       "    <tr>\n",
       "      <th>usc000phx5</th>\n",
       "      <td>93km SSE of Kirakira, Solomon Islands</td>\n",
       "      <td>7.6</td>\n",
       "      <td>22.56</td>\n",
       "    </tr>\n",
       "    <tr>\n",
       "      <th>usb000pr89</th>\n",
       "      <td>70km SW of Panguna, Papua New Guinea</td>\n",
       "      <td>7.5</td>\n",
       "      <td>43.37</td>\n",
       "    </tr>\n",
       "    <tr>\n",
       "      <th>usc000piqj</th>\n",
       "      <td>112km S of Kirakira, Solomon Islands</td>\n",
       "      <td>7.4</td>\n",
       "      <td>39.00</td>\n",
       "    </tr>\n",
       "    <tr>\n",
       "      <th>usb000slwn</th>\n",
       "      <td>74km S of Intipuca, El Salvador</td>\n",
       "      <td>7.3</td>\n",
       "      <td>40.00</td>\n",
       "    </tr>\n",
       "    <tr>\n",
       "      <th>usb000pq41</th>\n",
       "      <td>33km ESE of Petatlan, Mexico</td>\n",
       "      <td>7.2</td>\n",
       "      <td>24.00</td>\n",
       "    </tr>\n",
       "    <tr>\n",
       "      <th>usc000pft9</th>\n",
       "      <td>56km WSW of Panguna, Papua New Guinea</td>\n",
       "      <td>7.1</td>\n",
       "      <td>60.53</td>\n",
       "    </tr>\n",
       "    <tr>\n",
       "      <th>usc000sxh8</th>\n",
       "      <td>154km NW of Kota Ternate, Indonesia</td>\n",
       "      <td>7.1</td>\n",
       "      <td>45.00</td>\n",
       "    </tr>\n",
       "    <tr>\n",
       "      <th>usc000stdc</th>\n",
       "      <td>144km NE of Ndoi Island, Fiji</td>\n",
       "      <td>7.1</td>\n",
       "      <td>434.00</td>\n",
       "    </tr>\n",
       "    <tr>\n",
       "      <th>usb000sk6k</th>\n",
       "      <td>Southern East Pacific Rise</td>\n",
       "      <td>7.0</td>\n",
       "      <td>16.54</td>\n",
       "    </tr>\n",
       "    <tr>\n",
       "      <th>usc000mnvj</th>\n",
       "      <td>272km ESE of Hotan, China</td>\n",
       "      <td>6.9</td>\n",
       "      <td>10.00</td>\n",
       "    </tr>\n",
       "    <tr>\n",
       "      <th>usc000nzwm</th>\n",
       "      <td>91km WNW of Iquique, Chile</td>\n",
       "      <td>6.9</td>\n",
       "      <td>28.42</td>\n",
       "    </tr>\n",
       "    <tr>\n",
       "      <th>usb000r2hc</th>\n",
       "      <td>22km SSW of Kamariotissa, Greece</td>\n",
       "      <td>6.9</td>\n",
       "      <td>6.43</td>\n",
       "    </tr>\n",
       "    <tr>\n",
       "      <th>usc000rngj</th>\n",
       "      <td>154km NNW of Visokoi Island,</td>\n",
       "      <td>6.9</td>\n",
       "      <td>8.00</td>\n",
       "    </tr>\n",
       "    <tr>\n",
       "      <th>usc000rkg5</th>\n",
       "      <td>80km SSE of Raoul Island, New Zealand</td>\n",
       "      <td>6.9</td>\n",
       "      <td>20.00</td>\n",
       "    </tr>\n",
       "    <tr>\n",
       "      <th>usb000ruzk</th>\n",
       "      <td>99km NNE of Ndoi Island, Fiji</td>\n",
       "      <td>6.9</td>\n",
       "      <td>615.42</td>\n",
       "    </tr>\n",
       "    <tr>\n",
       "      <th>usc000rr6a</th>\n",
       "      <td>4km W of Puerto Madero, Mexico</td>\n",
       "      <td>6.9</td>\n",
       "      <td>53.00</td>\n",
       "    </tr>\n",
       "    <tr>\n",
       "      <th>usb000rzki</th>\n",
       "      <td>Federated States of Micronesia region</td>\n",
       "      <td>6.9</td>\n",
       "      <td>13.00</td>\n",
       "    </tr>\n",
       "  </tbody>\n",
       "</table>\n",
       "</div>"
      ],
      "text/plain": [
       "                                              place  mag   depth\n",
       "id                                                              \n",
       "usc000nzvd                94km NW of Iquique, Chile  8.2   25.00\n",
       "usc000rki5  19km SE of Little Sitkin Island, Alaska  7.9  109.00\n",
       "usc000p27i                53km SW of Iquique, Chile  7.7   22.40\n",
       "usc000phx5    93km SSE of Kirakira, Solomon Islands  7.6   22.56\n",
       "usb000pr89     70km SW of Panguna, Papua New Guinea  7.5   43.37\n",
       "usc000piqj     112km S of Kirakira, Solomon Islands  7.4   39.00\n",
       "usb000slwn          74km S of Intipuca, El Salvador  7.3   40.00\n",
       "usb000pq41             33km ESE of Petatlan, Mexico  7.2   24.00\n",
       "usc000pft9    56km WSW of Panguna, Papua New Guinea  7.1   60.53\n",
       "usc000sxh8      154km NW of Kota Ternate, Indonesia  7.1   45.00\n",
       "usc000stdc            144km NE of Ndoi Island, Fiji  7.1  434.00\n",
       "usb000sk6k               Southern East Pacific Rise  7.0   16.54\n",
       "usc000mnvj                272km ESE of Hotan, China  6.9   10.00\n",
       "usc000nzwm               91km WNW of Iquique, Chile  6.9   28.42\n",
       "usb000r2hc         22km SSW of Kamariotissa, Greece  6.9    6.43\n",
       "usc000rngj            154km NNW of Visokoi Island,   6.9    8.00\n",
       "usc000rkg5    80km SSE of Raoul Island, New Zealand  6.9   20.00\n",
       "usb000ruzk            99km NNE of Ndoi Island, Fiji  6.9  615.42\n",
       "usc000rr6a           4km W of Puerto Madero, Mexico  6.9   53.00\n",
       "usb000rzki    Federated States of Micronesia region  6.9   13.00"
      ]
     },
     "execution_count": 37,
     "metadata": {},
     "output_type": "execute_result"
    }
   ],
   "source": [
    "# View the dataframe\n",
    "top20_filtered"
   ]
  },
  {
   "cell_type": "code",
   "execution_count": 38,
   "metadata": {
    "deletable": false,
    "editable": false
   },
   "outputs": [
    {
     "data": {
      "text/html": [
       "<p><strong><pre style='display: inline;'>q8</pre></strong> passed! 🚀</p>"
      ],
      "text/plain": [
       "q8 results: All test cases passed!"
      ]
     },
     "execution_count": 38,
     "metadata": {},
     "output_type": "execute_result"
    }
   ],
   "source": [
    "grader.check(\"q8\")"
   ]
  },
  {
   "cell_type": "markdown",
   "metadata": {
    "deletable": false,
    "editable": false
   },
   "source": [
    "<!-- BEGIN QUESTION -->\n",
    "\n",
    "# 9 \n",
    "\n",
    "Without creating any new variables, visualize the locations of earthquakes with magnitude greater than 5 by creating a scatter plot of their latitude and longitude. Make the following adjustments to the basic plot:\n",
    "- update the title\n",
    "- color the points by magnitude (HINT: [check the `c` parameter here](https://pandas.pydata.org/pandas-docs/stable/reference/api/pandas.DataFrame.plot.scatter.html))\n",
    "- adjust the `alpha` (transparency) argument\n",
    "- adjust the `colormap` argument to maket it look prettier. [Click for ideas of sequential colormaps.](https://matplotlib.org/stable/users/explain/colors/colormaps.html)\n"
   ]
  },
  {
   "cell_type": "code",
   "execution_count": 56,
   "metadata": {
    "tags": [
     "otter_answer_cell"
    ]
   },
   "outputs": [
    {
     "data": {
      "text/plain": [
       "<Axes: title={'center': 'Earthquakes, Magnitude Greater Than 5.0'}, xlabel='longitude', ylabel='latitude'>"
      ]
     },
     "execution_count": 56,
     "metadata": {},
     "output_type": "execute_result"
    },
    {
     "data": {
      "image/png": "[encoded data removed]",
      "text/plain": [
       "<Figure size 640x480 with 2 Axes>"
      ]
     },
     "metadata": {},
     "output_type": "display_data"
    }
   ],
   "source": [
    "eqk[eqk['mag'] > 5].plot.scatter(x='longitude', y='latitude',\n",
    "                         title=\"Earthquakes, Magnitude Greater Than 5.0\",\n",
    "                         c='mag',\n",
    "                         alpha=0.5,\n",
    "                         colormap='spring',\n",
    "                         s=60)"
   ]
  },
  {
   "cell_type": "markdown",
   "metadata": {},
   "source": [
    "---\n",
    "\n",
    "To double-check your work, the cell below will rerun all of the autograder tests."
   ]
  },
  {
   "cell_type": "code",
   "execution_count": 57,
   "metadata": {},
   "outputs": [
    {
     "data": {
      "text/plain": [
       "q1_c results: All test cases passed!\n",
       "\n",
       "q2_a results: All test cases passed!\n",
       "\n",
       "q2_b results: All test cases passed!\n",
       "\n",
       "q2_c results: All test cases passed!\n",
       "\n",
       "q3 results: All test cases passed!\n",
       "\n",
       "q4_a results: All test cases passed!\n",
       "\n",
       "q4_b results: All test cases passed!\n",
       "\n",
       "q5 results: All test cases passed!\n",
       "\n",
       "q7_a results: All test cases passed!\n",
       "\n",
       "q8 results: All test cases passed!"
      ]
     },
     "execution_count": 57,
     "metadata": {},
     "output_type": "execute_result"
    }
   ],
   "source": [
    "grader.check_all()"
   ]
  },
  {
   "cell_type": "markdown",
   "metadata": {
    "deletable": false,
    "editable": false
   },
   "source": [
    "<!-- END QUESTION -->\n",
    "\n"
   ]
  }
 ],
 "metadata": {
  "kernelspec": {
   "display_name": "eds220-env",
   "language": "python",
   "name": "python3"
  },
  "language_info": {
   "codemirror_mode": {
    "name": "ipython",
    "version": 3
   },
   "file_extension": ".py",
   "mimetype": "text/x-python",
   "name": "python",
   "nbconvert_exporter": "python",
   "pygments_lexer": "ipython3",
   "version": "3.11.4"
  }
 },
 "nbformat": 4,
 "nbformat_minor": 4
}
