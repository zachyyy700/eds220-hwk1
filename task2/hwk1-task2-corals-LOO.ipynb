{
 "cells": [
  {
   "cell_type": "code",
   "execution_count": 5,
   "metadata": {
    "deletable": false,
    "editable": false
   },
   "outputs": [],
   "source": [
    "# Initialize Otter\n",
    "import otter\n",
    "grader = otter.Notebook(\"hwk1-task2-corals-LOO.ipynb\")"
   ]
  },
  {
   "cell_type": "markdown",
   "metadata": {},
   "source": [
    "# Task 2: Exploring coral diversity data\n",
    "\n",
    "## Instructions \n",
    "\n",
    "- First, update the following cell to have a link to *your* Homework 1 GitHub repository:\n"
   ]
  },
  {
   "cell_type": "markdown",
   "metadata": {},
   "source": [
    "**MY LINK:**\n",
    "\n",
    "[https://github.com/zachyyy700/eds220-hwk1]()"
   ]
  },
  {
   "cell_type": "markdown",
   "metadata": {},
   "source": [
    "- This task covers topics on the lesson on [subsetting `pandas.DataFrames`](https://meds-eds-220.github.io/MEDS-eds-220-course/book/chapters/lesson-3-pandas-subsetting/lesson-3-pandas-subsetting.html). The best strategy to solve it is to get together with your classmates and work on it together after that lecture.\n",
    "\n",
    "- Review the [complete rubric for this task](https://docs.google.com/document/d/131OnUDOLpOl94SlaMU9nGqT998ABrjFS/edit?usp=sharing&ouid=111507336322611936333&rtpof=true&sd=true) before starting.\n",
    "\n",
    "- **Make at least 5 commits at moments you think are adequate.** We'll check your repository and view the commit history.\n",
    "\n",
    "- **Add comments for all your code.** Err on the side of commenting too much for now. Comments should follow best practices.\n",
    "\n"
   ]
  },
  {
   "cell_type": "markdown",
   "metadata": {
    "deletable": false,
    "editable": false
   },
   "source": [
    "<!-- BEGIN QUESTION -->\n",
    "\n",
    "\n",
    "## 1\n",
    "For this task we are going to use data about  [Western Indian Ocean Coral Diversity (McClanahan, 2023)](https://knb.ecoinformatics.org/view/doi%3A10.5063%2FF1K35S3H) from the Knowledge Network for Biocomplexity (KNB) data repository. \n",
    "\n",
    "a. Navigate to the dataset's link and explore the data package. \n",
    " \n",
    "b. Use the next markdown cell to add a brief description of the dataset, including a citation, date of access, and a link to the archive. \n"
   ]
  },
  {
   "cell_type": "markdown",
   "metadata": {
    "tags": [
     "otter_answer_cell"
    ]
   },
   "source": [
    "**Description:**\n",
    "This dataset contains data for a study on coral diversity in the Western Indian Ocean\n",
    "\n",
    "**Citation:**\n",
    "Tim McClanahan. (2023). Western Indian Ocean Coral Diversity. Knowledge Network for Biocomplexity. [doi:10.5063/F1K35S3H](https://knb.ecoinformatics.org/view/doi:10.5063/F1K35S3H)\n",
    "\n",
    "Access Date: September 25, 2025\n",
    "\n",
    "[Archive Link](https://knb.ecoinformatics.org/view/doi%3A10.5063%2FF1K35S3H#urn%3Auuid%3Ab9d486bb-ea8d-442d-8287-c66c0ce18425)"
   ]
  },
  {
   "cell_type": "markdown",
   "metadata": {
    "deletable": false,
    "editable": false
   },
   "source": [
    "<!-- END QUESTION -->\n",
    "\n",
    "<!-- BEGIN QUESTION -->\n",
    "\n",
    "## 2\n",
    "In the next code cell, import the `pandas` package using standard abbreviation in a code cell.\n",
    "\n",
    "Read in the data from the URL using the `pd.read_csv` function and store it as `coral_div` like this:\n",
    "\n",
    "```\n",
    "# read in data\n",
    "coral_div = pd.read_csv('the URL goes here')\n",
    "```"
   ]
  },
  {
   "cell_type": "code",
   "execution_count": 6,
   "metadata": {
    "scrolled": true,
    "tags": [
     "otter_answer_cell"
    ]
   },
   "outputs": [],
   "source": [
    "import pandas as pd\n",
    "coral_div = pd.read_csv('data/coral_data.csv')"
   ]
  },
  {
   "cell_type": "markdown",
   "metadata": {
    "deletable": false,
    "editable": false
   },
   "source": [
    "<!-- END QUESTION -->\n",
    "\n",
    "## 3\n",
    "\n",
    "Use attributes and methods of the `coral_div` data frame to obtain the following information about it:\n",
    "\n",
    "Use the code cells marked a-e. For each, add a comment explaining what is the ouput."
   ]
  },
  {
   "cell_type": "markdown",
   "metadata": {
    "deletable": false,
    "editable": false
   },
   "source": [
    "a. how many rows and columns does it have? Store your answers in the `rows` and `columns` variables. "
   ]
  },
  {
   "cell_type": "code",
   "execution_count": 7,
   "metadata": {
    "tags": [
     "otter_answer_cell"
    ]
   },
   "outputs": [],
   "source": [
    "#a\n",
    "rows = coral_div.shape[0] # Access first element in shape() to return row count\n",
    "columns = coral_div.shape[1] # Access second element in shape() to return column count"
   ]
  },
  {
   "cell_type": "code",
   "execution_count": 8,
   "metadata": {
    "deletable": false,
    "editable": false
   },
   "outputs": [
    {
     "data": {
      "text/html": [
       "<p><strong><pre style='display: inline;'>q3_a</pre></strong> passed! 🚀</p>"
      ],
      "text/plain": [
       "q3_a results: All test cases passed!"
      ]
     },
     "execution_count": 8,
     "metadata": {},
     "output_type": "execute_result"
    }
   ],
   "source": [
    "grader.check(\"q3_a\")"
   ]
  },
  {
   "cell_type": "markdown",
   "metadata": {
    "deletable": false,
    "editable": false
   },
   "source": [
    "b. What are the column names? Store your answer in the `coral_div_columns` variable."
   ]
  },
  {
   "cell_type": "code",
   "execution_count": 9,
   "metadata": {
    "tags": [
     "otter_answer_cell"
    ]
   },
   "outputs": [],
   "source": [
    "#b\n",
    "coral_div_columns = coral_div.columns # Retrieve column names"
   ]
  },
  {
   "cell_type": "code",
   "execution_count": 10,
   "metadata": {
    "deletable": false,
    "editable": false
   },
   "outputs": [
    {
     "data": {
      "text/html": [
       "<p><strong><pre style='display: inline;'>q3_b</pre></strong> passed! 🚀</p>"
      ],
      "text/plain": [
       "q3_b results: All test cases passed!"
      ]
     },
     "execution_count": 10,
     "metadata": {},
     "output_type": "execute_result"
    }
   ],
   "source": [
    "grader.check(\"q3_b\")"
   ]
  },
  {
   "cell_type": "markdown",
   "metadata": {
    "deletable": false,
    "editable": false
   },
   "source": [
    "c. what are the data types of the columns? Store your answer in the `coral_div_types`."
   ]
  },
  {
   "cell_type": "code",
   "execution_count": 11,
   "metadata": {
    "tags": [
     "otter_answer_cell"
    ]
   },
   "outputs": [],
   "source": [
    "#c\n",
    "coral_div_types = coral_div.dtypes # Retrieve data types from columns"
   ]
  },
  {
   "cell_type": "code",
   "execution_count": 12,
   "metadata": {
    "deletable": false,
    "editable": false
   },
   "outputs": [
    {
     "data": {
      "text/html": [
       "<p><strong><pre style='display: inline;'>q3_c</pre></strong> passed! 🍀</p>"
      ],
      "text/plain": [
       "q3_c results: All test cases passed!"
      ]
     },
     "execution_count": 12,
     "metadata": {},
     "output_type": "execute_result"
    }
   ],
   "source": [
    "grader.check(\"q3_c\")"
   ]
  },
  {
   "cell_type": "markdown",
   "metadata": {
    "deletable": false,
    "editable": false
   },
   "source": [
    "d. display the first 8 rows with all the column names. For this one, you will need to udpate a `pandas` option (HINT: check the first discussion section). Store your answer in the `first_8_rows` variable."
   ]
  },
  {
   "cell_type": "code",
   "execution_count": 13,
   "metadata": {
    "tags": [
     "otter_answer_cell"
    ]
   },
   "outputs": [],
   "source": [
    "#d\n",
    "first_8_rows = coral_div.head(n=8) # Use head() and n argument to display first 8 rows"
   ]
  },
  {
   "cell_type": "code",
   "execution_count": 14,
   "metadata": {
    "tags": [
     "otter_answer_cell"
    ]
   },
   "outputs": [
    {
     "data": {
      "text/html": [
       "<div>\n",
       "<style scoped>\n",
       "    .dataframe tbody tr th:only-of-type {\n",
       "        vertical-align: middle;\n",
       "    }\n",
       "\n",
       "    .dataframe tbody tr th {\n",
       "        vertical-align: top;\n",
       "    }\n",
       "\n",
       "    .dataframe thead th {\n",
       "        text-align: right;\n",
       "    }\n",
       "</style>\n",
       "<table border=\"1\" class=\"dataframe\">\n",
       "  <thead>\n",
       "    <tr style=\"text-align: right;\">\n",
       "      <th></th>\n",
       "      <th>PU_ID</th>\n",
       "      <th>PU_Lat</th>\n",
       "      <th>PU_Lon</th>\n",
       "      <th>Number_of_genera</th>\n",
       "      <th>Country</th>\n",
       "      <th>Ecoregion</th>\n",
       "      <th>Management</th>\n",
       "      <th>Habitat</th>\n",
       "      <th>Observer</th>\n",
       "      <th>Depth</th>\n",
       "      <th>Coralcover</th>\n",
       "      <th>SSTRateofRise</th>\n",
       "      <th>PARmax</th>\n",
       "      <th>Calcite</th>\n",
       "      <th>Dis_oxygen</th>\n",
       "      <th>mean.waveNRJ</th>\n",
       "      <th>Salinity_mean</th>\n",
       "      <th>andrello_reef_value</th>\n",
       "      <th>andrello_nutrients</th>\n",
       "      <th>mean.npp</th>\n",
       "      <th>TT_market_hrs</th>\n",
       "      <th>TT_pop_hrs</th>\n",
       "      <th>cumDHW</th>\n",
       "      <th>SST_Kurtosis</th>\n",
       "      <th>SST_Median</th>\n",
       "      <th>ChlorA_median</th>\n",
       "      <th>andrello_sediments</th>\n",
       "      <th>Current_vel_mean</th>\n",
       "      <th>Diff_attenuation</th>\n",
       "      <th>Grav_NP</th>\n",
       "      <th>Grav_NC</th>\n",
       "      <th>PH</th>\n",
       "      <th>SST_bimodality</th>\n",
       "      <th>SST_Skewness</th>\n",
       "      <th>ClimateStressModel</th>\n",
       "      <th>Netflow</th>\n",
       "      <th>Indegree</th>\n",
       "      <th>Outdegree</th>\n",
       "      <th>Retention</th>\n",
       "      <th>min_yr</th>\n",
       "      <th>max_yr</th>\n",
       "      <th>no_replicates</th>\n",
       "    </tr>\n",
       "  </thead>\n",
       "  <tbody>\n",
       "    <tr>\n",
       "      <th>0</th>\n",
       "      <td>7</td>\n",
       "      <td>39.076711</td>\n",
       "      <td>-5.490011</td>\n",
       "      <td>35</td>\n",
       "      <td>Tanzania</td>\n",
       "      <td>East African Coral Coast</td>\n",
       "      <td>UnfishedLow</td>\n",
       "      <td>Crest</td>\n",
       "      <td>Tim</td>\n",
       "      <td>11.0</td>\n",
       "      <td>45</td>\n",
       "      <td>0.019214</td>\n",
       "      <td>54.747001</td>\n",
       "      <td>0.001075</td>\n",
       "      <td>4.7495</td>\n",
       "      <td>3.714321</td>\n",
       "      <td>35.167646</td>\n",
       "      <td>0</td>\n",
       "      <td>8.388602</td>\n",
       "      <td>1139.112671</td>\n",
       "      <td>1.383333</td>\n",
       "      <td>0.366667</td>\n",
       "      <td>24.133263</td>\n",
       "      <td>-0.803330</td>\n",
       "      <td>27.435</td>\n",
       "      <td>0.465182</td>\n",
       "      <td>53540.007810</td>\n",
       "      <td>0.541991</td>\n",
       "      <td>0.09475</td>\n",
       "      <td>0.008503</td>\n",
       "      <td>32.387920</td>\n",
       "      <td>8.2175</td>\n",
       "      <td>0.462556</td>\n",
       "      <td>-0.128136</td>\n",
       "      <td>0.596375</td>\n",
       "      <td>0.144498</td>\n",
       "      <td>98.25</td>\n",
       "      <td>74.75</td>\n",
       "      <td>14.00</td>\n",
       "      <td>2019</td>\n",
       "      <td>2019</td>\n",
       "      <td>1</td>\n",
       "    </tr>\n",
       "    <tr>\n",
       "      <th>1</th>\n",
       "      <td>7</td>\n",
       "      <td>39.076711</td>\n",
       "      <td>-5.490011</td>\n",
       "      <td>22</td>\n",
       "      <td>Tanzania</td>\n",
       "      <td>East African Coral Coast</td>\n",
       "      <td>UnfishedLow</td>\n",
       "      <td>Lagoon/Back reef</td>\n",
       "      <td>Nyawira</td>\n",
       "      <td>2.0</td>\n",
       "      <td>45</td>\n",
       "      <td>0.019214</td>\n",
       "      <td>54.747001</td>\n",
       "      <td>0.001075</td>\n",
       "      <td>4.7495</td>\n",
       "      <td>3.714321</td>\n",
       "      <td>35.167646</td>\n",
       "      <td>0</td>\n",
       "      <td>8.388602</td>\n",
       "      <td>1139.112671</td>\n",
       "      <td>1.383333</td>\n",
       "      <td>0.366667</td>\n",
       "      <td>24.133263</td>\n",
       "      <td>-0.803330</td>\n",
       "      <td>27.435</td>\n",
       "      <td>0.465182</td>\n",
       "      <td>53540.007810</td>\n",
       "      <td>0.541991</td>\n",
       "      <td>0.09475</td>\n",
       "      <td>0.008503</td>\n",
       "      <td>32.387920</td>\n",
       "      <td>8.2175</td>\n",
       "      <td>0.462556</td>\n",
       "      <td>-0.128136</td>\n",
       "      <td>0.596375</td>\n",
       "      <td>0.144498</td>\n",
       "      <td>98.25</td>\n",
       "      <td>74.75</td>\n",
       "      <td>14.00</td>\n",
       "      <td>2010</td>\n",
       "      <td>2015</td>\n",
       "      <td>2</td>\n",
       "    </tr>\n",
       "    <tr>\n",
       "      <th>2</th>\n",
       "      <td>7</td>\n",
       "      <td>39.076711</td>\n",
       "      <td>-5.490011</td>\n",
       "      <td>25</td>\n",
       "      <td>Tanzania</td>\n",
       "      <td>East African Coral Coast</td>\n",
       "      <td>UnfishedLow</td>\n",
       "      <td>Slope</td>\n",
       "      <td>Nyawira</td>\n",
       "      <td>4.0</td>\n",
       "      <td>45</td>\n",
       "      <td>0.019214</td>\n",
       "      <td>54.747001</td>\n",
       "      <td>0.001075</td>\n",
       "      <td>4.7495</td>\n",
       "      <td>3.714321</td>\n",
       "      <td>35.167646</td>\n",
       "      <td>0</td>\n",
       "      <td>8.388602</td>\n",
       "      <td>1139.112671</td>\n",
       "      <td>1.383333</td>\n",
       "      <td>0.366667</td>\n",
       "      <td>24.133263</td>\n",
       "      <td>-0.803330</td>\n",
       "      <td>27.435</td>\n",
       "      <td>0.465182</td>\n",
       "      <td>53540.007810</td>\n",
       "      <td>0.541991</td>\n",
       "      <td>0.09475</td>\n",
       "      <td>0.008503</td>\n",
       "      <td>32.387920</td>\n",
       "      <td>8.2175</td>\n",
       "      <td>0.462556</td>\n",
       "      <td>-0.128136</td>\n",
       "      <td>0.596375</td>\n",
       "      <td>0.144498</td>\n",
       "      <td>98.25</td>\n",
       "      <td>74.75</td>\n",
       "      <td>14.00</td>\n",
       "      <td>2015</td>\n",
       "      <td>2015</td>\n",
       "      <td>1</td>\n",
       "    </tr>\n",
       "    <tr>\n",
       "      <th>3</th>\n",
       "      <td>7</td>\n",
       "      <td>39.076711</td>\n",
       "      <td>-5.490011</td>\n",
       "      <td>26</td>\n",
       "      <td>Tanzania</td>\n",
       "      <td>East African Coral Coast</td>\n",
       "      <td>UnfishedLow</td>\n",
       "      <td>Slope</td>\n",
       "      <td>Nyawira</td>\n",
       "      <td>3.0</td>\n",
       "      <td>45</td>\n",
       "      <td>0.019214</td>\n",
       "      <td>54.747001</td>\n",
       "      <td>0.001075</td>\n",
       "      <td>4.7495</td>\n",
       "      <td>3.714321</td>\n",
       "      <td>35.167646</td>\n",
       "      <td>0</td>\n",
       "      <td>8.388602</td>\n",
       "      <td>1139.112671</td>\n",
       "      <td>1.383333</td>\n",
       "      <td>0.366667</td>\n",
       "      <td>24.133263</td>\n",
       "      <td>-0.803330</td>\n",
       "      <td>27.435</td>\n",
       "      <td>0.465182</td>\n",
       "      <td>53540.007810</td>\n",
       "      <td>0.541991</td>\n",
       "      <td>0.09475</td>\n",
       "      <td>0.008503</td>\n",
       "      <td>32.387920</td>\n",
       "      <td>8.2175</td>\n",
       "      <td>0.462556</td>\n",
       "      <td>-0.128136</td>\n",
       "      <td>0.596375</td>\n",
       "      <td>0.144498</td>\n",
       "      <td>98.25</td>\n",
       "      <td>74.75</td>\n",
       "      <td>14.00</td>\n",
       "      <td>2016</td>\n",
       "      <td>2019</td>\n",
       "      <td>2</td>\n",
       "    </tr>\n",
       "    <tr>\n",
       "      <th>4</th>\n",
       "      <td>10</td>\n",
       "      <td>39.054253</td>\n",
       "      <td>-5.512514</td>\n",
       "      <td>27</td>\n",
       "      <td>Tanzania</td>\n",
       "      <td>East African Coral Coast</td>\n",
       "      <td>UnfishedLow</td>\n",
       "      <td>Lagoon/Back reef</td>\n",
       "      <td>Nyawira</td>\n",
       "      <td>1.5</td>\n",
       "      <td>48</td>\n",
       "      <td>0.020051</td>\n",
       "      <td>55.395000</td>\n",
       "      <td>0.001747</td>\n",
       "      <td>4.7510</td>\n",
       "      <td>3.270938</td>\n",
       "      <td>35.102688</td>\n",
       "      <td>0</td>\n",
       "      <td>6.731860</td>\n",
       "      <td>1126.355957</td>\n",
       "      <td>1.383333</td>\n",
       "      <td>0.366667</td>\n",
       "      <td>25.342901</td>\n",
       "      <td>-0.793681</td>\n",
       "      <td>27.455</td>\n",
       "      <td>0.700521</td>\n",
       "      <td>38477.105470</td>\n",
       "      <td>0.690454</td>\n",
       "      <td>0.11400</td>\n",
       "      <td>0.008503</td>\n",
       "      <td>32.387920</td>\n",
       "      <td>8.2180</td>\n",
       "      <td>0.461297</td>\n",
       "      <td>-0.134548</td>\n",
       "      <td>0.629000</td>\n",
       "      <td>0.011721</td>\n",
       "      <td>112.75</td>\n",
       "      <td>51.50</td>\n",
       "      <td>183.75</td>\n",
       "      <td>2010</td>\n",
       "      <td>2019</td>\n",
       "      <td>3</td>\n",
       "    </tr>\n",
       "    <tr>\n",
       "      <th>5</th>\n",
       "      <td>10</td>\n",
       "      <td>39.054253</td>\n",
       "      <td>-5.512514</td>\n",
       "      <td>29</td>\n",
       "      <td>Tanzania</td>\n",
       "      <td>East African Coral Coast</td>\n",
       "      <td>UnfishedLow</td>\n",
       "      <td>Lagoon/Back reef</td>\n",
       "      <td>Tim</td>\n",
       "      <td>1.5</td>\n",
       "      <td>48</td>\n",
       "      <td>0.020051</td>\n",
       "      <td>55.395000</td>\n",
       "      <td>0.001747</td>\n",
       "      <td>4.7510</td>\n",
       "      <td>3.270938</td>\n",
       "      <td>35.102688</td>\n",
       "      <td>0</td>\n",
       "      <td>6.731860</td>\n",
       "      <td>1126.355957</td>\n",
       "      <td>1.383333</td>\n",
       "      <td>0.366667</td>\n",
       "      <td>25.342901</td>\n",
       "      <td>-0.793681</td>\n",
       "      <td>27.455</td>\n",
       "      <td>0.700521</td>\n",
       "      <td>38477.105470</td>\n",
       "      <td>0.690454</td>\n",
       "      <td>0.11400</td>\n",
       "      <td>0.008503</td>\n",
       "      <td>32.387920</td>\n",
       "      <td>8.2180</td>\n",
       "      <td>0.461297</td>\n",
       "      <td>-0.134548</td>\n",
       "      <td>0.629000</td>\n",
       "      <td>0.011721</td>\n",
       "      <td>112.75</td>\n",
       "      <td>51.50</td>\n",
       "      <td>183.75</td>\n",
       "      <td>2015</td>\n",
       "      <td>2015</td>\n",
       "      <td>1</td>\n",
       "    </tr>\n",
       "    <tr>\n",
       "      <th>6</th>\n",
       "      <td>15</td>\n",
       "      <td>39.054253</td>\n",
       "      <td>-5.535017</td>\n",
       "      <td>19</td>\n",
       "      <td>Tanzania</td>\n",
       "      <td>East African Coral Coast</td>\n",
       "      <td>Restricted</td>\n",
       "      <td>Crest</td>\n",
       "      <td>Tim</td>\n",
       "      <td>8.0</td>\n",
       "      <td>41</td>\n",
       "      <td>0.020051</td>\n",
       "      <td>55.395000</td>\n",
       "      <td>0.001747</td>\n",
       "      <td>4.7510</td>\n",
       "      <td>3.270938</td>\n",
       "      <td>35.102688</td>\n",
       "      <td>0</td>\n",
       "      <td>6.731860</td>\n",
       "      <td>1126.355957</td>\n",
       "      <td>1.383333</td>\n",
       "      <td>0.366667</td>\n",
       "      <td>25.342901</td>\n",
       "      <td>-0.793681</td>\n",
       "      <td>27.455</td>\n",
       "      <td>0.592692</td>\n",
       "      <td>38477.105470</td>\n",
       "      <td>0.690454</td>\n",
       "      <td>0.11400</td>\n",
       "      <td>0.008503</td>\n",
       "      <td>32.387920</td>\n",
       "      <td>8.2180</td>\n",
       "      <td>0.461297</td>\n",
       "      <td>-0.134548</td>\n",
       "      <td>0.595600</td>\n",
       "      <td>0.011721</td>\n",
       "      <td>112.75</td>\n",
       "      <td>51.50</td>\n",
       "      <td>183.75</td>\n",
       "      <td>2019</td>\n",
       "      <td>2019</td>\n",
       "      <td>1</td>\n",
       "    </tr>\n",
       "    <tr>\n",
       "      <th>7</th>\n",
       "      <td>39</td>\n",
       "      <td>39.009337</td>\n",
       "      <td>-5.647518</td>\n",
       "      <td>28</td>\n",
       "      <td>Tanzania</td>\n",
       "      <td>East African Coral Coast</td>\n",
       "      <td>UnfishedLow</td>\n",
       "      <td>Lagoon/Back reef</td>\n",
       "      <td>Nyawira</td>\n",
       "      <td>3.0</td>\n",
       "      <td>49</td>\n",
       "      <td>0.021358</td>\n",
       "      <td>54.935499</td>\n",
       "      <td>0.001744</td>\n",
       "      <td>4.7540</td>\n",
       "      <td>2.857747</td>\n",
       "      <td>35.106329</td>\n",
       "      <td>0</td>\n",
       "      <td>2.645199</td>\n",
       "      <td>1150.677856</td>\n",
       "      <td>1.783333</td>\n",
       "      <td>0.333333</td>\n",
       "      <td>30.265219</td>\n",
       "      <td>-0.795494</td>\n",
       "      <td>27.525</td>\n",
       "      <td>0.656533</td>\n",
       "      <td>3224.024414</td>\n",
       "      <td>0.561659</td>\n",
       "      <td>0.10500</td>\n",
       "      <td>0.512126</td>\n",
       "      <td>19.634828</td>\n",
       "      <td>8.2185</td>\n",
       "      <td>0.464874</td>\n",
       "      <td>-0.158601</td>\n",
       "      <td>0.626000</td>\n",
       "      <td>-0.063087</td>\n",
       "      <td>96.50</td>\n",
       "      <td>40.75</td>\n",
       "      <td>35.75</td>\n",
       "      <td>2015</td>\n",
       "      <td>2019</td>\n",
       "      <td>3</td>\n",
       "    </tr>\n",
       "  </tbody>\n",
       "</table>\n",
       "</div>"
      ],
      "text/plain": [
       "   PU_ID     PU_Lat    PU_Lon  Number_of_genera   Country  \\\n",
       "0      7  39.076711 -5.490011                35  Tanzania   \n",
       "1      7  39.076711 -5.490011                22  Tanzania   \n",
       "2      7  39.076711 -5.490011                25  Tanzania   \n",
       "3      7  39.076711 -5.490011                26  Tanzania   \n",
       "4     10  39.054253 -5.512514                27  Tanzania   \n",
       "5     10  39.054253 -5.512514                29  Tanzania   \n",
       "6     15  39.054253 -5.535017                19  Tanzania   \n",
       "7     39  39.009337 -5.647518                28  Tanzania   \n",
       "\n",
       "                  Ecoregion   Management           Habitat Observer  Depth  \\\n",
       "0  East African Coral Coast  UnfishedLow             Crest      Tim   11.0   \n",
       "1  East African Coral Coast  UnfishedLow  Lagoon/Back reef  Nyawira    2.0   \n",
       "2  East African Coral Coast  UnfishedLow             Slope  Nyawira    4.0   \n",
       "3  East African Coral Coast  UnfishedLow             Slope  Nyawira    3.0   \n",
       "4  East African Coral Coast  UnfishedLow  Lagoon/Back reef  Nyawira    1.5   \n",
       "5  East African Coral Coast  UnfishedLow  Lagoon/Back reef      Tim    1.5   \n",
       "6  East African Coral Coast   Restricted             Crest      Tim    8.0   \n",
       "7  East African Coral Coast  UnfishedLow  Lagoon/Back reef  Nyawira    3.0   \n",
       "\n",
       "   Coralcover  SSTRateofRise     PARmax   Calcite  Dis_oxygen  mean.waveNRJ  \\\n",
       "0          45       0.019214  54.747001  0.001075      4.7495      3.714321   \n",
       "1          45       0.019214  54.747001  0.001075      4.7495      3.714321   \n",
       "2          45       0.019214  54.747001  0.001075      4.7495      3.714321   \n",
       "3          45       0.019214  54.747001  0.001075      4.7495      3.714321   \n",
       "4          48       0.020051  55.395000  0.001747      4.7510      3.270938   \n",
       "5          48       0.020051  55.395000  0.001747      4.7510      3.270938   \n",
       "6          41       0.020051  55.395000  0.001747      4.7510      3.270938   \n",
       "7          49       0.021358  54.935499  0.001744      4.7540      2.857747   \n",
       "\n",
       "   Salinity_mean  andrello_reef_value  andrello_nutrients     mean.npp  \\\n",
       "0      35.167646                    0            8.388602  1139.112671   \n",
       "1      35.167646                    0            8.388602  1139.112671   \n",
       "2      35.167646                    0            8.388602  1139.112671   \n",
       "3      35.167646                    0            8.388602  1139.112671   \n",
       "4      35.102688                    0            6.731860  1126.355957   \n",
       "5      35.102688                    0            6.731860  1126.355957   \n",
       "6      35.102688                    0            6.731860  1126.355957   \n",
       "7      35.106329                    0            2.645199  1150.677856   \n",
       "\n",
       "   TT_market_hrs  TT_pop_hrs     cumDHW  SST_Kurtosis  SST_Median  \\\n",
       "0       1.383333    0.366667  24.133263     -0.803330      27.435   \n",
       "1       1.383333    0.366667  24.133263     -0.803330      27.435   \n",
       "2       1.383333    0.366667  24.133263     -0.803330      27.435   \n",
       "3       1.383333    0.366667  24.133263     -0.803330      27.435   \n",
       "4       1.383333    0.366667  25.342901     -0.793681      27.455   \n",
       "5       1.383333    0.366667  25.342901     -0.793681      27.455   \n",
       "6       1.383333    0.366667  25.342901     -0.793681      27.455   \n",
       "7       1.783333    0.333333  30.265219     -0.795494      27.525   \n",
       "\n",
       "   ChlorA_median  andrello_sediments  Current_vel_mean  Diff_attenuation  \\\n",
       "0       0.465182        53540.007810          0.541991           0.09475   \n",
       "1       0.465182        53540.007810          0.541991           0.09475   \n",
       "2       0.465182        53540.007810          0.541991           0.09475   \n",
       "3       0.465182        53540.007810          0.541991           0.09475   \n",
       "4       0.700521        38477.105470          0.690454           0.11400   \n",
       "5       0.700521        38477.105470          0.690454           0.11400   \n",
       "6       0.592692        38477.105470          0.690454           0.11400   \n",
       "7       0.656533         3224.024414          0.561659           0.10500   \n",
       "\n",
       "    Grav_NP    Grav_NC      PH  SST_bimodality  SST_Skewness  \\\n",
       "0  0.008503  32.387920  8.2175        0.462556     -0.128136   \n",
       "1  0.008503  32.387920  8.2175        0.462556     -0.128136   \n",
       "2  0.008503  32.387920  8.2175        0.462556     -0.128136   \n",
       "3  0.008503  32.387920  8.2175        0.462556     -0.128136   \n",
       "4  0.008503  32.387920  8.2180        0.461297     -0.134548   \n",
       "5  0.008503  32.387920  8.2180        0.461297     -0.134548   \n",
       "6  0.008503  32.387920  8.2180        0.461297     -0.134548   \n",
       "7  0.512126  19.634828  8.2185        0.464874     -0.158601   \n",
       "\n",
       "   ClimateStressModel   Netflow  Indegree  Outdegree  Retention  min_yr  \\\n",
       "0            0.596375  0.144498     98.25      74.75      14.00    2019   \n",
       "1            0.596375  0.144498     98.25      74.75      14.00    2010   \n",
       "2            0.596375  0.144498     98.25      74.75      14.00    2015   \n",
       "3            0.596375  0.144498     98.25      74.75      14.00    2016   \n",
       "4            0.629000  0.011721    112.75      51.50     183.75    2010   \n",
       "5            0.629000  0.011721    112.75      51.50     183.75    2015   \n",
       "6            0.595600  0.011721    112.75      51.50     183.75    2019   \n",
       "7            0.626000 -0.063087     96.50      40.75      35.75    2015   \n",
       "\n",
       "   max_yr  no_replicates  \n",
       "0    2019              1  \n",
       "1    2015              2  \n",
       "2    2015              1  \n",
       "3    2019              2  \n",
       "4    2019              3  \n",
       "5    2015              1  \n",
       "6    2019              1  \n",
       "7    2019              3  "
      ]
     },
     "execution_count": 14,
     "metadata": {},
     "output_type": "execute_result"
    }
   ],
   "source": [
    "# View the dataframe \n",
    "pd.set_option(\"display.max.columns\", None) # Set option to show all columns\n",
    "first_8_rows"
   ]
  },
  {
   "cell_type": "code",
   "execution_count": 15,
   "metadata": {
    "deletable": false,
    "editable": false
   },
   "outputs": [
    {
     "data": {
      "text/html": [
       "<p><strong><pre style='display: inline;'>q3_d</pre></strong> passed! 🍀</p>"
      ],
      "text/plain": [
       "q3_d results: All test cases passed!"
      ]
     },
     "execution_count": 15,
     "metadata": {},
     "output_type": "execute_result"
    }
   ],
   "source": [
    "grader.check(\"q3_d\")"
   ]
  },
  {
   "cell_type": "markdown",
   "metadata": {
    "deletable": false,
    "editable": false
   },
   "source": [
    "<!-- BEGIN QUESTION -->\n",
    "\n",
    "e. Write code to find out some other inital information you are interested in. "
   ]
  },
  {
   "cell_type": "code",
   "execution_count": 16,
   "metadata": {
    "tags": [
     "otter_answer_cell"
    ]
   },
   "outputs": [
    {
     "data": {
      "text/html": [
       "<div>\n",
       "<style scoped>\n",
       "    .dataframe tbody tr th:only-of-type {\n",
       "        vertical-align: middle;\n",
       "    }\n",
       "\n",
       "    .dataframe tbody tr th {\n",
       "        vertical-align: top;\n",
       "    }\n",
       "\n",
       "    .dataframe thead th {\n",
       "        text-align: right;\n",
       "    }\n",
       "</style>\n",
       "<table border=\"1\" class=\"dataframe\">\n",
       "  <thead>\n",
       "    <tr style=\"text-align: right;\">\n",
       "      <th></th>\n",
       "      <th>PU_ID</th>\n",
       "      <th>PU_Lat</th>\n",
       "      <th>PU_Lon</th>\n",
       "      <th>Number_of_genera</th>\n",
       "      <th>Depth</th>\n",
       "      <th>Coralcover</th>\n",
       "      <th>SSTRateofRise</th>\n",
       "      <th>PARmax</th>\n",
       "      <th>Calcite</th>\n",
       "      <th>Dis_oxygen</th>\n",
       "      <th>mean.waveNRJ</th>\n",
       "      <th>Salinity_mean</th>\n",
       "      <th>andrello_reef_value</th>\n",
       "      <th>andrello_nutrients</th>\n",
       "      <th>mean.npp</th>\n",
       "      <th>TT_market_hrs</th>\n",
       "      <th>TT_pop_hrs</th>\n",
       "      <th>cumDHW</th>\n",
       "      <th>SST_Kurtosis</th>\n",
       "      <th>SST_Median</th>\n",
       "      <th>ChlorA_median</th>\n",
       "      <th>andrello_sediments</th>\n",
       "      <th>Current_vel_mean</th>\n",
       "      <th>Diff_attenuation</th>\n",
       "      <th>Grav_NP</th>\n",
       "      <th>Grav_NC</th>\n",
       "      <th>PH</th>\n",
       "      <th>SST_bimodality</th>\n",
       "      <th>SST_Skewness</th>\n",
       "      <th>ClimateStressModel</th>\n",
       "      <th>Netflow</th>\n",
       "      <th>Indegree</th>\n",
       "      <th>Outdegree</th>\n",
       "      <th>Retention</th>\n",
       "      <th>min_yr</th>\n",
       "      <th>max_yr</th>\n",
       "      <th>no_replicates</th>\n",
       "    </tr>\n",
       "  </thead>\n",
       "  <tbody>\n",
       "    <tr>\n",
       "      <th>count</th>\n",
       "      <td>575.000000</td>\n",
       "      <td>575.000000</td>\n",
       "      <td>575.000000</td>\n",
       "      <td>575.000000</td>\n",
       "      <td>575.000000</td>\n",
       "      <td>575.000000</td>\n",
       "      <td>575.000000</td>\n",
       "      <td>575.000000</td>\n",
       "      <td>575.000000</td>\n",
       "      <td>575.000000</td>\n",
       "      <td>575.000000</td>\n",
       "      <td>575.000000</td>\n",
       "      <td>575.000000</td>\n",
       "      <td>575.000000</td>\n",
       "      <td>575.000000</td>\n",
       "      <td>575.000000</td>\n",
       "      <td>575.000000</td>\n",
       "      <td>575.000000</td>\n",
       "      <td>575.000000</td>\n",
       "      <td>575.000000</td>\n",
       "      <td>575.000000</td>\n",
       "      <td>575.000000</td>\n",
       "      <td>567.000000</td>\n",
       "      <td>575.000000</td>\n",
       "      <td>575.000000</td>\n",
       "      <td>575.000000</td>\n",
       "      <td>575.000000</td>\n",
       "      <td>575.000000</td>\n",
       "      <td>575.000000</td>\n",
       "      <td>575.000000</td>\n",
       "      <td>575.000000</td>\n",
       "      <td>575.000000</td>\n",
       "      <td>575.000000</td>\n",
       "      <td>575.000000</td>\n",
       "      <td>575.000000</td>\n",
       "      <td>575.000000</td>\n",
       "      <td>575.000000</td>\n",
       "    </tr>\n",
       "    <tr>\n",
       "      <th>mean</th>\n",
       "      <td>3536.620870</td>\n",
       "      <td>43.976240</td>\n",
       "      <td>-12.633028</td>\n",
       "      <td>20.182609</td>\n",
       "      <td>6.253192</td>\n",
       "      <td>38.340870</td>\n",
       "      <td>0.017559</td>\n",
       "      <td>55.558422</td>\n",
       "      <td>0.003622</td>\n",
       "      <td>4.684780</td>\n",
       "      <td>6.703885</td>\n",
       "      <td>35.107151</td>\n",
       "      <td>2219.659130</td>\n",
       "      <td>0.730446</td>\n",
       "      <td>1089.610496</td>\n",
       "      <td>2.684696</td>\n",
       "      <td>0.349043</td>\n",
       "      <td>31.921010</td>\n",
       "      <td>-1.057857</td>\n",
       "      <td>27.249568</td>\n",
       "      <td>0.503534</td>\n",
       "      <td>1377.021656</td>\n",
       "      <td>0.334118</td>\n",
       "      <td>0.096368</td>\n",
       "      <td>72.036688</td>\n",
       "      <td>249.847203</td>\n",
       "      <td>8.219264</td>\n",
       "      <td>0.529946</td>\n",
       "      <td>-0.071522</td>\n",
       "      <td>0.549405</td>\n",
       "      <td>0.203586</td>\n",
       "      <td>51.882609</td>\n",
       "      <td>55.963043</td>\n",
       "      <td>91.107391</td>\n",
       "      <td>2013.165217</td>\n",
       "      <td>2013.923478</td>\n",
       "      <td>1.716522</td>\n",
       "    </tr>\n",
       "    <tr>\n",
       "      <th>std</th>\n",
       "      <td>2345.438008</td>\n",
       "      <td>6.549987</td>\n",
       "      <td>6.972048</td>\n",
       "      <td>6.568299</td>\n",
       "      <td>4.501193</td>\n",
       "      <td>10.586395</td>\n",
       "      <td>0.006552</td>\n",
       "      <td>2.118008</td>\n",
       "      <td>0.007026</td>\n",
       "      <td>0.108744</td>\n",
       "      <td>9.671883</td>\n",
       "      <td>0.155083</td>\n",
       "      <td>6724.739629</td>\n",
       "      <td>1.892257</td>\n",
       "      <td>344.467710</td>\n",
       "      <td>2.323668</td>\n",
       "      <td>0.651023</td>\n",
       "      <td>12.958842</td>\n",
       "      <td>0.179542</td>\n",
       "      <td>0.791284</td>\n",
       "      <td>0.382751</td>\n",
       "      <td>6062.852899</td>\n",
       "      <td>0.289820</td>\n",
       "      <td>0.037496</td>\n",
       "      <td>361.123417</td>\n",
       "      <td>1833.378108</td>\n",
       "      <td>0.021589</td>\n",
       "      <td>0.047659</td>\n",
       "      <td>0.127463</td>\n",
       "      <td>0.151452</td>\n",
       "      <td>0.344229</td>\n",
       "      <td>37.238322</td>\n",
       "      <td>27.701567</td>\n",
       "      <td>147.657638</td>\n",
       "      <td>4.693628</td>\n",
       "      <td>4.638243</td>\n",
       "      <td>1.524934</td>\n",
       "    </tr>\n",
       "    <tr>\n",
       "      <th>min</th>\n",
       "      <td>7.000000</td>\n",
       "      <td>32.878336</td>\n",
       "      <td>-27.011417</td>\n",
       "      <td>3.000000</td>\n",
       "      <td>0.500000</td>\n",
       "      <td>10.000000</td>\n",
       "      <td>-0.000463</td>\n",
       "      <td>48.774500</td>\n",
       "      <td>0.000058</td>\n",
       "      <td>4.373000</td>\n",
       "      <td>0.012061</td>\n",
       "      <td>34.793606</td>\n",
       "      <td>0.000000</td>\n",
       "      <td>0.000000</td>\n",
       "      <td>478.886322</td>\n",
       "      <td>0.066667</td>\n",
       "      <td>0.016667</td>\n",
       "      <td>11.817551</td>\n",
       "      <td>-1.288117</td>\n",
       "      <td>25.605000</td>\n",
       "      <td>0.103304</td>\n",
       "      <td>0.000000</td>\n",
       "      <td>0.004318</td>\n",
       "      <td>0.030000</td>\n",
       "      <td>0.000027</td>\n",
       "      <td>0.105933</td>\n",
       "      <td>8.194000</td>\n",
       "      <td>0.416042</td>\n",
       "      <td>-0.297088</td>\n",
       "      <td>0.081800</td>\n",
       "      <td>-0.576851</td>\n",
       "      <td>2.500000</td>\n",
       "      <td>10.500000</td>\n",
       "      <td>0.000000</td>\n",
       "      <td>1998.000000</td>\n",
       "      <td>1998.000000</td>\n",
       "      <td>1.000000</td>\n",
       "    </tr>\n",
       "    <tr>\n",
       "      <th>25%</th>\n",
       "      <td>1413.500000</td>\n",
       "      <td>39.413579</td>\n",
       "      <td>-20.006995</td>\n",
       "      <td>16.000000</td>\n",
       "      <td>2.000000</td>\n",
       "      <td>31.000000</td>\n",
       "      <td>0.015466</td>\n",
       "      <td>54.117250</td>\n",
       "      <td>0.000272</td>\n",
       "      <td>4.626000</td>\n",
       "      <td>0.381757</td>\n",
       "      <td>34.993843</td>\n",
       "      <td>0.000000</td>\n",
       "      <td>0.003343</td>\n",
       "      <td>866.265259</td>\n",
       "      <td>0.966667</td>\n",
       "      <td>0.116667</td>\n",
       "      <td>23.736330</td>\n",
       "      <td>-1.199299</td>\n",
       "      <td>26.725000</td>\n",
       "      <td>0.273017</td>\n",
       "      <td>1.824363</td>\n",
       "      <td>0.056703</td>\n",
       "      <td>0.075000</td>\n",
       "      <td>0.004548</td>\n",
       "      <td>1.307845</td>\n",
       "      <td>8.202000</td>\n",
       "      <td>0.488628</td>\n",
       "      <td>-0.168714</td>\n",
       "      <td>0.470100</td>\n",
       "      <td>-0.023227</td>\n",
       "      <td>21.250000</td>\n",
       "      <td>35.625000</td>\n",
       "      <td>11.750000</td>\n",
       "      <td>2009.000000</td>\n",
       "      <td>2010.000000</td>\n",
       "      <td>1.000000</td>\n",
       "    </tr>\n",
       "    <tr>\n",
       "      <th>50%</th>\n",
       "      <td>4002.000000</td>\n",
       "      <td>40.671221</td>\n",
       "      <td>-12.827030</td>\n",
       "      <td>20.000000</td>\n",
       "      <td>5.000000</td>\n",
       "      <td>39.000000</td>\n",
       "      <td>0.019233</td>\n",
       "      <td>55.523998</td>\n",
       "      <td>0.000906</td>\n",
       "      <td>4.711000</td>\n",
       "      <td>2.779553</td>\n",
       "      <td>35.111250</td>\n",
       "      <td>92.000000</td>\n",
       "      <td>0.054937</td>\n",
       "      <td>1080.256104</td>\n",
       "      <td>1.750000</td>\n",
       "      <td>0.250000</td>\n",
       "      <td>29.182178</td>\n",
       "      <td>-1.104230</td>\n",
       "      <td>27.380000</td>\n",
       "      <td>0.423426</td>\n",
       "      <td>25.271633</td>\n",
       "      <td>0.237931</td>\n",
       "      <td>0.094000</td>\n",
       "      <td>0.105661</td>\n",
       "      <td>11.860722</td>\n",
       "      <td>8.214000</td>\n",
       "      <td>0.547940</td>\n",
       "      <td>-0.095642</td>\n",
       "      <td>0.579325</td>\n",
       "      <td>0.233054</td>\n",
       "      <td>43.500000</td>\n",
       "      <td>54.250000</td>\n",
       "      <td>47.750000</td>\n",
       "      <td>2014.000000</td>\n",
       "      <td>2015.000000</td>\n",
       "      <td>1.000000</td>\n",
       "    </tr>\n",
       "    <tr>\n",
       "      <th>75%</th>\n",
       "      <td>5182.000000</td>\n",
       "      <td>48.497793</td>\n",
       "      <td>-5.523765</td>\n",
       "      <td>24.000000</td>\n",
       "      <td>9.500000</td>\n",
       "      <td>45.000000</td>\n",
       "      <td>0.021978</td>\n",
       "      <td>57.133999</td>\n",
       "      <td>0.002866</td>\n",
       "      <td>4.755500</td>\n",
       "      <td>9.019123</td>\n",
       "      <td>35.202907</td>\n",
       "      <td>1300.000000</td>\n",
       "      <td>0.637267</td>\n",
       "      <td>1292.011963</td>\n",
       "      <td>4.200000</td>\n",
       "      <td>0.450000</td>\n",
       "      <td>37.195070</td>\n",
       "      <td>-0.938512</td>\n",
       "      <td>27.748750</td>\n",
       "      <td>0.575617</td>\n",
       "      <td>376.639374</td>\n",
       "      <td>0.630028</td>\n",
       "      <td>0.112000</td>\n",
       "      <td>1.559208</td>\n",
       "      <td>70.412808</td>\n",
       "      <td>8.223000</td>\n",
       "      <td>0.570981</td>\n",
       "      <td>0.018935</td>\n",
       "      <td>0.656300</td>\n",
       "      <td>0.509071</td>\n",
       "      <td>81.250000</td>\n",
       "      <td>77.000000</td>\n",
       "      <td>109.000000</td>\n",
       "      <td>2016.000000</td>\n",
       "      <td>2018.000000</td>\n",
       "      <td>2.000000</td>\n",
       "    </tr>\n",
       "    <tr>\n",
       "      <th>max</th>\n",
       "      <td>11683.000000</td>\n",
       "      <td>57.806585</td>\n",
       "      <td>-1.745137</td>\n",
       "      <td>40.000000</td>\n",
       "      <td>29.000000</td>\n",
       "      <td>60.000000</td>\n",
       "      <td>0.027391</td>\n",
       "      <td>62.193001</td>\n",
       "      <td>0.055976</td>\n",
       "      <td>4.850250</td>\n",
       "      <td>41.906391</td>\n",
       "      <td>35.613293</td>\n",
       "      <td>66008.000000</td>\n",
       "      <td>19.850121</td>\n",
       "      <td>2638.477295</td>\n",
       "      <td>17.383333</td>\n",
       "      <td>14.300000</td>\n",
       "      <td>73.657739</td>\n",
       "      <td>-0.417778</td>\n",
       "      <td>28.720000</td>\n",
       "      <td>2.556975</td>\n",
       "      <td>53540.007810</td>\n",
       "      <td>0.951819</td>\n",
       "      <td>0.271000</td>\n",
       "      <td>2607.128418</td>\n",
       "      <td>42682.465450</td>\n",
       "      <td>8.272000</td>\n",
       "      <td>0.598189</td>\n",
       "      <td>0.304314</td>\n",
       "      <td>0.813600</td>\n",
       "      <td>0.815635</td>\n",
       "      <td>146.750000</td>\n",
       "      <td>136.000000</td>\n",
       "      <td>1561.500000</td>\n",
       "      <td>2022.000000</td>\n",
       "      <td>2022.000000</td>\n",
       "      <td>19.000000</td>\n",
       "    </tr>\n",
       "  </tbody>\n",
       "</table>\n",
       "</div>"
      ],
      "text/plain": [
       "              PU_ID      PU_Lat      PU_Lon  Number_of_genera       Depth  \\\n",
       "count    575.000000  575.000000  575.000000        575.000000  575.000000   \n",
       "mean    3536.620870   43.976240  -12.633028         20.182609    6.253192   \n",
       "std     2345.438008    6.549987    6.972048          6.568299    4.501193   \n",
       "min        7.000000   32.878336  -27.011417          3.000000    0.500000   \n",
       "25%     1413.500000   39.413579  -20.006995         16.000000    2.000000   \n",
       "50%     4002.000000   40.671221  -12.827030         20.000000    5.000000   \n",
       "75%     5182.000000   48.497793   -5.523765         24.000000    9.500000   \n",
       "max    11683.000000   57.806585   -1.745137         40.000000   29.000000   \n",
       "\n",
       "       Coralcover  SSTRateofRise      PARmax     Calcite  Dis_oxygen  \\\n",
       "count  575.000000     575.000000  575.000000  575.000000  575.000000   \n",
       "mean    38.340870       0.017559   55.558422    0.003622    4.684780   \n",
       "std     10.586395       0.006552    2.118008    0.007026    0.108744   \n",
       "min     10.000000      -0.000463   48.774500    0.000058    4.373000   \n",
       "25%     31.000000       0.015466   54.117250    0.000272    4.626000   \n",
       "50%     39.000000       0.019233   55.523998    0.000906    4.711000   \n",
       "75%     45.000000       0.021978   57.133999    0.002866    4.755500   \n",
       "max     60.000000       0.027391   62.193001    0.055976    4.850250   \n",
       "\n",
       "       mean.waveNRJ  Salinity_mean  andrello_reef_value  andrello_nutrients  \\\n",
       "count    575.000000     575.000000           575.000000          575.000000   \n",
       "mean       6.703885      35.107151          2219.659130            0.730446   \n",
       "std        9.671883       0.155083          6724.739629            1.892257   \n",
       "min        0.012061      34.793606             0.000000            0.000000   \n",
       "25%        0.381757      34.993843             0.000000            0.003343   \n",
       "50%        2.779553      35.111250            92.000000            0.054937   \n",
       "75%        9.019123      35.202907          1300.000000            0.637267   \n",
       "max       41.906391      35.613293         66008.000000           19.850121   \n",
       "\n",
       "          mean.npp  TT_market_hrs  TT_pop_hrs      cumDHW  SST_Kurtosis  \\\n",
       "count   575.000000     575.000000  575.000000  575.000000    575.000000   \n",
       "mean   1089.610496       2.684696    0.349043   31.921010     -1.057857   \n",
       "std     344.467710       2.323668    0.651023   12.958842      0.179542   \n",
       "min     478.886322       0.066667    0.016667   11.817551     -1.288117   \n",
       "25%     866.265259       0.966667    0.116667   23.736330     -1.199299   \n",
       "50%    1080.256104       1.750000    0.250000   29.182178     -1.104230   \n",
       "75%    1292.011963       4.200000    0.450000   37.195070     -0.938512   \n",
       "max    2638.477295      17.383333   14.300000   73.657739     -0.417778   \n",
       "\n",
       "       SST_Median  ChlorA_median  andrello_sediments  Current_vel_mean  \\\n",
       "count  575.000000     575.000000          575.000000        567.000000   \n",
       "mean    27.249568       0.503534         1377.021656          0.334118   \n",
       "std      0.791284       0.382751         6062.852899          0.289820   \n",
       "min     25.605000       0.103304            0.000000          0.004318   \n",
       "25%     26.725000       0.273017            1.824363          0.056703   \n",
       "50%     27.380000       0.423426           25.271633          0.237931   \n",
       "75%     27.748750       0.575617          376.639374          0.630028   \n",
       "max     28.720000       2.556975        53540.007810          0.951819   \n",
       "\n",
       "       Diff_attenuation      Grav_NP       Grav_NC          PH  \\\n",
       "count        575.000000   575.000000    575.000000  575.000000   \n",
       "mean           0.096368    72.036688    249.847203    8.219264   \n",
       "std            0.037496   361.123417   1833.378108    0.021589   \n",
       "min            0.030000     0.000027      0.105933    8.194000   \n",
       "25%            0.075000     0.004548      1.307845    8.202000   \n",
       "50%            0.094000     0.105661     11.860722    8.214000   \n",
       "75%            0.112000     1.559208     70.412808    8.223000   \n",
       "max            0.271000  2607.128418  42682.465450    8.272000   \n",
       "\n",
       "       SST_bimodality  SST_Skewness  ClimateStressModel     Netflow  \\\n",
       "count      575.000000    575.000000          575.000000  575.000000   \n",
       "mean         0.529946     -0.071522            0.549405    0.203586   \n",
       "std          0.047659      0.127463            0.151452    0.344229   \n",
       "min          0.416042     -0.297088            0.081800   -0.576851   \n",
       "25%          0.488628     -0.168714            0.470100   -0.023227   \n",
       "50%          0.547940     -0.095642            0.579325    0.233054   \n",
       "75%          0.570981      0.018935            0.656300    0.509071   \n",
       "max          0.598189      0.304314            0.813600    0.815635   \n",
       "\n",
       "         Indegree   Outdegree    Retention       min_yr       max_yr  \\\n",
       "count  575.000000  575.000000   575.000000   575.000000   575.000000   \n",
       "mean    51.882609   55.963043    91.107391  2013.165217  2013.923478   \n",
       "std     37.238322   27.701567   147.657638     4.693628     4.638243   \n",
       "min      2.500000   10.500000     0.000000  1998.000000  1998.000000   \n",
       "25%     21.250000   35.625000    11.750000  2009.000000  2010.000000   \n",
       "50%     43.500000   54.250000    47.750000  2014.000000  2015.000000   \n",
       "75%     81.250000   77.000000   109.000000  2016.000000  2018.000000   \n",
       "max    146.750000  136.000000  1561.500000  2022.000000  2022.000000   \n",
       "\n",
       "       no_replicates  \n",
       "count     575.000000  \n",
       "mean        1.716522  \n",
       "std         1.524934  \n",
       "min         1.000000  \n",
       "25%         1.000000  \n",
       "50%         1.000000  \n",
       "75%         2.000000  \n",
       "max        19.000000  "
      ]
     },
     "execution_count": 16,
     "metadata": {},
     "output_type": "execute_result"
    }
   ],
   "source": [
    "# e\n",
    "coral_div.describe() # Use describe() for general descriptive statistics for columns"
   ]
  },
  {
   "cell_type": "markdown",
   "metadata": {
    "deletable": false,
    "editable": false
   },
   "source": [
    "<!-- END QUESTION -->\n",
    "\n",
    "<!-- BEGIN QUESTION -->\n",
    "\n",
    "## 4\n",
    "\n",
    "Some of the columns have data type `int64` and some have data type `float64`. What is the difference between these `int64` and `float64`?\n"
   ]
  },
  {
   "cell_type": "markdown",
   "metadata": {
    "tags": [
     "otter_answer_cell"
    ]
   },
   "source": [
    "- **int64**s have no decimals\n",
    "\n",
    "- **float64**s do have decimals"
   ]
  },
  {
   "cell_type": "markdown",
   "metadata": {
    "deletable": false,
    "editable": false
   },
   "source": [
    "<!-- END QUESTION -->\n",
    "\n",
    "<!-- BEGIN QUESTION -->\n",
    "\n",
    "## 5\n",
    "\n",
    "The `Country` column indicates the country where the coral reef is located. Explain, in your own words, what is the ouput of `coral_div['Country']` and `coral_div['Country'].unique()`. "
   ]
  },
  {
   "cell_type": "code",
   "execution_count": 17,
   "metadata": {},
   "outputs": [
    {
     "data": {
      "text/plain": [
       "array(['Tanzania', 'Mozambique', 'Kenya', 'Reunion', 'Comoros', 'Mayotte',\n",
       "       'French Southern Territories', 'Madagascar', 'Seychelles',\n",
       "       'South Africa', 'Mauritius'], dtype=object)"
      ]
     },
     "execution_count": 17,
     "metadata": {},
     "output_type": "execute_result"
    }
   ],
   "source": [
    "coral_div['Country'].unique()"
   ]
  },
  {
   "cell_type": "markdown",
   "metadata": {
    "tags": [
     "otter_answer_cell"
    ]
   },
   "source": [
    "- `coral_div['Country']`: Returns a series of this singular column and lists every single value\n",
    "\n",
    "- `coral_div['Country]`: Returns an array of only unique instances of each value"
   ]
  },
  {
   "cell_type": "markdown",
   "metadata": {
    "deletable": false,
    "editable": false
   },
   "source": [
    "<!-- END QUESTION -->\n",
    "\n",
    "## 6\n",
    "\n",
    "Check the dataset's [metadata file README_md.doc](https://knb.ecoinformatics.org/view/doi:10.5063/F1K35S3H) to find which column has information about who made an observation. How many observers collected this data? HINT: Check this [method for `pandas.DataFrame`](https://pandas.pydata.org/docs/reference/api/pandas.DataFrame.nunique.html). Store your answer in the `unique_observers` variable."
   ]
  },
  {
   "cell_type": "code",
   "execution_count": 18,
   "metadata": {
    "tags": [
     "otter_answer_cell"
    ]
   },
   "outputs": [],
   "source": [
    "unique_observers = coral_div['Observer'].nunique()"
   ]
  },
  {
   "cell_type": "code",
   "execution_count": 19,
   "metadata": {
    "deletable": false,
    "editable": false
   },
   "outputs": [
    {
     "data": {
      "text/html": [
       "<p><strong><pre style='display: inline;'>q6</pre></strong> passed! 🌟</p>"
      ],
      "text/plain": [
       "q6 results: All test cases passed!"
      ]
     },
     "execution_count": 19,
     "metadata": {},
     "output_type": "execute_result"
    }
   ],
   "source": [
    "grader.check(\"q6\")"
   ]
  },
  {
   "cell_type": "markdown",
   "metadata": {},
   "source": [
    "## 7\n",
    "\n",
    "The `Coralcover` column indicates the percent of hard coral cover in each 6 km reef cell surveyed. "
   ]
  },
  {
   "cell_type": "markdown",
   "metadata": {
    "deletable": false,
    "editable": false
   },
   "source": [
    "<!-- BEGIN QUESTION -->\n",
    "\n",
    "a)  Describe, in detail,  what kind of object `coral_div['Coralcover']>= 50` is."
   ]
  },
  {
   "cell_type": "code",
   "execution_count": 20,
   "metadata": {},
   "outputs": [
    {
     "data": {
      "text/plain": [
       "0      False\n",
       "1      False\n",
       "2      False\n",
       "3      False\n",
       "4      False\n",
       "       ...  \n",
       "570    False\n",
       "571    False\n",
       "572    False\n",
       "573    False\n",
       "574    False\n",
       "Name: Coralcover, Length: 575, dtype: bool"
      ]
     },
     "execution_count": 20,
     "metadata": {},
     "output_type": "execute_result"
    }
   ],
   "source": [
    "coral_div['Coralcover'] >= 50"
   ]
  },
  {
   "cell_type": "markdown",
   "metadata": {
    "tags": [
     "otter_answer_cell"
    ]
   },
   "source": [
    "- `coral_div['Coralcover'] >= 50` will return a series of Boolean values. True where the condition is true and false where the condition is false."
   ]
  },
  {
   "cell_type": "markdown",
   "metadata": {
    "deletable": false,
    "editable": false
   },
   "source": [
    "<!-- END QUESTION -->\n",
    "\n",
    "<!-- BEGIN QUESTION -->\n",
    "\n",
    "b) What data is `coral_div[coral_div['Coralcover'] >= 50]` selecting?"
   ]
  },
  {
   "cell_type": "markdown",
   "metadata": {
    "tags": [
     "otter_answer_cell"
    ]
   },
   "source": [
    "- `coral_div[coral_div['Coralcover'] >= 50]` will select rows where the **Coralcover** column is greater or equal to 50"
   ]
  },
  {
   "cell_type": "markdown",
   "metadata": {
    "deletable": false,
    "editable": false
   },
   "source": [
    "<!-- END QUESTION -->\n",
    "\n",
    "## 8\n",
    "\n",
    "Use code to find if there are there any sites with a 30% coral cover in Tanzania. Store your answer in the `coral_cover` variable."
   ]
  },
  {
   "cell_type": "code",
   "execution_count": null,
   "metadata": {
    "tags": [
     "otter_answer_cell"
    ]
   },
   "outputs": [],
   "source": [
    "coral_cover = ..."
   ]
  },
  {
   "cell_type": "code",
   "execution_count": null,
   "metadata": {
    "tags": [
     "otter_answer_cell"
    ]
   },
   "outputs": [],
   "source": [
    "# View the dataframe\n",
    "coral_cover"
   ]
  },
  {
   "cell_type": "code",
   "execution_count": null,
   "metadata": {
    "deletable": false,
    "editable": false
   },
   "outputs": [],
   "source": [
    "grader.check(\"q8\")"
   ]
  },
  {
   "cell_type": "markdown",
   "metadata": {
    "deletable": false,
    "editable": false
   },
   "source": [
    "## 9\n",
    "\n",
    "We are interested in looking at the PH of sea water (`PH` column),  mean salinity (`Salinity_mean` column), and depth of survey location in meters (`Depth` column). Subset the data frame by selecting only these column. Store your answer in the `filtered_data` variable"
   ]
  },
  {
   "cell_type": "code",
   "execution_count": null,
   "metadata": {
    "tags": [
     "otter_answer_cell"
    ]
   },
   "outputs": [],
   "source": [
    "filtered_data = ..."
   ]
  },
  {
   "cell_type": "code",
   "execution_count": null,
   "metadata": {
    "deletable": false,
    "editable": false
   },
   "outputs": [],
   "source": [
    "# View the dataframe\n",
    "filtered_data.head()"
   ]
  },
  {
   "cell_type": "code",
   "execution_count": null,
   "metadata": {
    "deletable": false,
    "editable": false
   },
   "outputs": [],
   "source": [
    "grader.check(\"q9\")"
   ]
  },
  {
   "cell_type": "markdown",
   "metadata": {
    "deletable": false,
    "editable": false
   },
   "source": [
    "## 10\n",
    "The `max_yr` column indicates the year of last sampling at a given site. Select the PH, salinity, and depth for sites where sampling ended in 2017. Store your answer in the `sampling_2017` variable. `Sampling_2017` should include the following columns in the following order: ` PH, Salinity_mean, Depth, max_yr`. \n"
   ]
  },
  {
   "cell_type": "code",
   "execution_count": null,
   "metadata": {
    "tags": [
     "otter_answer_cell"
    ]
   },
   "outputs": [],
   "source": [
    "sampling_2017 = ..."
   ]
  },
  {
   "cell_type": "code",
   "execution_count": null,
   "metadata": {
    "tags": [
     "otter_answer_cell"
    ]
   },
   "outputs": [],
   "source": [
    "# View the dataframe \n",
    "sampling_2017"
   ]
  },
  {
   "cell_type": "code",
   "execution_count": null,
   "metadata": {
    "deletable": false,
    "editable": false
   },
   "outputs": [],
   "source": [
    "grader.check(\"q10\")"
   ]
  },
  {
   "cell_type": "markdown",
   "metadata": {
    "deletable": false,
    "editable": false
   },
   "source": [
    "## 11\n",
    "Use `iloc` to select rows 95 through 100 (including 100) in the 17th, 20th, and 28th columns and assign these values to a new variable called `subset`. View the new `subset` dataframe.\n",
    "\n",
    "HINT: the ouput columns should be `Salinity_mean`, `mean.npp` and `Current_vel_mean` (in that order!)."
   ]
  },
  {
   "cell_type": "code",
   "execution_count": null,
   "metadata": {
    "tags": [
     "otter_answer_cell"
    ]
   },
   "outputs": [],
   "source": [
    "subset = ..."
   ]
  },
  {
   "cell_type": "code",
   "execution_count": null,
   "metadata": {
    "tags": [
     "otter_answer_cell"
    ]
   },
   "outputs": [],
   "source": [
    "# View the dataframe\n",
    "subset"
   ]
  },
  {
   "cell_type": "code",
   "execution_count": null,
   "metadata": {
    "deletable": false,
    "editable": false
   },
   "outputs": [],
   "source": [
    "grader.check(\"q11\")"
   ]
  },
  {
   "cell_type": "markdown",
   "metadata": {
    "deletable": false,
    "editable": false
   },
   "source": [
    "<!-- BEGIN QUESTION -->\n",
    "\n",
    "## 12 \n",
    "\n",
    "Run `subset.isna()`. Explain what this code does and what the output represents."
   ]
  },
  {
   "cell_type": "markdown",
   "metadata": {
    "tags": [
     "otter_answer_cell"
    ]
   },
   "source": [
    "_Type your answer here, replacing this text._"
   ]
  },
  {
   "cell_type": "markdown",
   "metadata": {
    "deletable": false,
    "editable": false
   },
   "source": [
    "<!-- END QUESTION -->\n",
    "\n",
    "<!-- BEGIN QUESTION -->\n",
    "\n",
    "## 13\n",
    "Run `subset.isna().any()`. Explain in your own words what this code does and what the output represents. HINT: check the [documentation of `pandas.Sries.any`](https://pandas.pydata.org/docs/reference/api/pandas.Series.any.html).\n"
   ]
  },
  {
   "cell_type": "markdown",
   "metadata": {
    "tags": [
     "otter_answer_cell"
    ]
   },
   "source": [
    "_Type your answer here, replacing this text._"
   ]
  },
  {
   "cell_type": "markdown",
   "metadata": {
    "deletable": false,
    "editable": false
   },
   "source": [
    "<!-- END QUESTION -->\n",
    "\n",
    "## 14 \n",
    "\n",
    "Select the rows in `subset` that have NA in the `Current_vel_mean` column. Store your answer in the `subset_na` variable."
   ]
  },
  {
   "cell_type": "code",
   "execution_count": null,
   "metadata": {
    "jp-MarkdownHeadingCollapsed": true,
    "tags": [
     "otter_answer_cell"
    ]
   },
   "outputs": [],
   "source": [
    "subset_na = ..."
   ]
  },
  {
   "cell_type": "code",
   "execution_count": null,
   "metadata": {
    "tags": [
     "otter_answer_cell"
    ]
   },
   "outputs": [],
   "source": [
    "# View the dataframe \n",
    "subset_na"
   ]
  },
  {
   "cell_type": "code",
   "execution_count": null,
   "metadata": {
    "deletable": false,
    "editable": false
   },
   "outputs": [],
   "source": [
    "grader.check(\"q14\")"
   ]
  },
  {
   "cell_type": "markdown",
   "metadata": {
    "deletable": false,
    "editable": false
   },
   "source": [
    "---\n",
    "\n",
    "To double-check your work, the cell below will rerun all of the autograder tests."
   ]
  },
  {
   "cell_type": "code",
   "execution_count": null,
   "metadata": {
    "deletable": false,
    "editable": false
   },
   "outputs": [],
   "source": [
    "grader.check_all()"
   ]
  }
 ],
 "metadata": {
  "kernelspec": {
   "display_name": "eds220-env",
   "language": "python",
   "name": "python3"
  },
  "language_info": {
   "codemirror_mode": {
    "name": "ipython",
    "version": 3
   },
   "file_extension": ".py",
   "mimetype": "text/x-python",
   "name": "python",
   "nbconvert_exporter": "python",
   "pygments_lexer": "ipython3",
   "version": "3.11.4"
  }
 },
 "nbformat": 4,
 "nbformat_minor": 4
}
